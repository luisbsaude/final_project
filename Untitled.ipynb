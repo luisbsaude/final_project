{
 "cells": [
  {
   "cell_type": "markdown",
   "metadata": {},
   "source": [
    "# Libraries and functions"
   ]
  },
  {
   "cell_type": "code",
   "execution_count": 380,
   "metadata": {},
   "outputs": [],
   "source": [
    "import numpy as np\n",
    "import pandas as pd\n",
    "from sklearn.linear_model import LogisticRegression\n",
    "from sklearn.model_selection import train_test_split\n",
    "from sklearn.metrics import accuracy_score\n",
    "from sklearn.linear_model import LinearRegression\n",
    "from sklearn.preprocessing import LabelEncoder\n",
    "from datetime import datetime\n",
    "from sklearn.tree import DecisionTreeRegressor\n",
    "import datetime\n",
    "from statsmodels.tsa.holtwinters import ExponentialSmoothing\n",
    "import ipywidgets as ipw\n",
    "from ipywidgets import interact, interactive, fixed, interact_manual"
   ]
  },
  {
   "cell_type": "code",
   "execution_count": 170,
   "metadata": {},
   "outputs": [],
   "source": [
    "def clean(data):\n",
    "    data['FTG']=data['FTHG']+data['FTAG']\n",
    "    data['HTG']=data['HTHG']+data['HTAG']\n",
    "    #data['FTY']=data['HY']+data['AY']\n",
    "    #data['FTR']=data['HR']+data['AR']\n",
    "    data['DIF_F']=data['FTHG']-data['FTAG']\n",
    "    data['DIF_H']=data['HTHG']-data['HTAG']\n",
    "    new = data[['Date','HomeTeam','AwayTeam','FTHG','FTAG','HTHG','HTAG','DIF_F','DIF_H','FTG','HTG']]#,'FTY','FTR']]\n",
    "    return new"
   ]
  },
  {
   "cell_type": "markdown",
   "metadata": {
    "heading_collapsed": true
   },
   "source": [
    "# Import & Clean Data"
   ]
  },
  {
   "cell_type": "code",
   "execution_count": 277,
   "metadata": {
    "hidden": true
   },
   "outputs": [],
   "source": [
    "P1 = pd.read_csv('https://www.football-data.co.uk/mmz4281/1920/P1.csv')\n",
    "E0 = pd.read_csv('https://www.football-data.co.uk/mmz4281/1920/E0.csv')\n",
    "SP1 = pd.read_csv('https://www.football-data.co.uk/mmz4281/1920/SP1.csv')\n",
    "I1 = pd.read_csv('https://www.football-data.co.uk/mmz4281/1920/I1.csv')\n",
    "D1 = pd.read_csv('https://www.football-data.co.uk/mmz4281/1920/D1.csv')\n",
    "F1 = pd.read_csv('https://www.football-data.co.uk/mmz4281/1920/F1.csv')\n",
    "H1 = pd.read_csv('https://www.football-data.co.uk/mmz4281/1920/N1.csv')\n",
    "T1 = pd.read_csv('https://www.football-data.co.uk/mmz4281/1920/T1.csv')\n",
    "E1 = pd.read_csv('https://www.football-data.co.uk/mmz4281/1920/E1.csv')\n",
    "SP2 = pd.read_csv('https://www.football-data.co.uk/mmz4281/1920/SP2.csv')\n",
    "I2 = pd.read_csv('https://www.football-data.co.uk/mmz4281/1920/I2.csv')\n",
    "D2 = pd.read_csv('https://www.football-data.co.uk/mmz4281/1920/D2.csv')\n",
    "F2 = pd.read_csv('https://www.football-data.co.uk/mmz4281/1920/F2.csv')\n",
    "G1 = pd.read_csv('https://www.football-data.co.uk/mmz4281/1920/G1.csv')\n",
    "B1 = pd.read_csv('https://www.football-data.co.uk/mmz4281/1920/B1.csv')\n",
    "S1 = pd.read_csv('https://www.football-data.co.uk/mmz4281/1920/SC0.csv')\n",
    "E2 = pd.read_csv('https://www.football-data.co.uk/mmz4281/1920/E2.csv')"
   ]
  },
  {
   "cell_type": "code",
   "execution_count": 291,
   "metadata": {
    "hidden": true
   },
   "outputs": [],
   "source": [
    "pt = clean(P1)\n",
    "en = clean(E0)\n",
    "es = clean(SP1)\n",
    "it = clean(I1)\n",
    "ger = clean(D1)\n",
    "fr = clean(F1)\n",
    "nl = clean(H1)\n",
    "tk = clean(T1)\n",
    "en2 = clean(E1)\n",
    "es2 = clean(SP2)\n",
    "it2 = clean(I2)\n",
    "ger2 = clean(D2)\n",
    "fr2 = clean(F2)\n",
    "gr = clean(G1)\n",
    "bg = clean(B1)\n",
    "sc = clean(S1)\n",
    "en3 = clean(E2)"
   ]
  },
  {
   "cell_type": "code",
   "execution_count": 5,
   "metadata": {
    "hidden": true
   },
   "outputs": [],
   "source": [
    "spi = pd.read_csv('spi_global_rankings.csv')"
   ]
  },
  {
   "cell_type": "code",
   "execution_count": 6,
   "metadata": {
    "hidden": true
   },
   "outputs": [],
   "source": [
    "spi.drop(columns=['rank','prev_rank'],inplace=True)"
   ]
  },
  {
   "cell_type": "code",
   "execution_count": 168,
   "metadata": {
    "collapsed": true,
    "hidden": true
   },
   "outputs": [
    {
     "data": {
      "text/plain": [
       "{'Argentina Primera Division',\n",
       " 'Australian A-League',\n",
       " 'Austrian T-Mobile Bundesliga',\n",
       " 'Barclays Premier League',\n",
       " 'Belgian Jupiler League',\n",
       " 'Brasileiro Série A',\n",
       " 'Chinese Super League',\n",
       " 'Danish SAS-Ligaen',\n",
       " 'Dutch Eredivisie',\n",
       " 'English League Championship',\n",
       " 'English League One',\n",
       " 'English League Two',\n",
       " 'French Ligue 1',\n",
       " 'French Ligue 2',\n",
       " 'German 2. Bundesliga',\n",
       " 'German Bundesliga',\n",
       " 'Greek Super League',\n",
       " 'Italy Serie A',\n",
       " 'Italy Serie B',\n",
       " 'Japanese J League',\n",
       " 'Major League Soccer',\n",
       " 'Mexican Primera Division Torneo Apertura',\n",
       " 'Mexican Primera Division Torneo Clausura',\n",
       " 'Norwegian Tippeligaen',\n",
       " 'Portuguese Liga',\n",
       " 'Russian Premier Liga',\n",
       " 'Scottish Premiership',\n",
       " 'South African ABSA Premier League',\n",
       " 'Spanish Primera Division',\n",
       " 'Spanish Segunda Division',\n",
       " 'Swedish Allsvenskan',\n",
       " 'Swiss Raiffeisen Super League',\n",
       " 'Turkish Turkcell Super Lig',\n",
       " 'UEFA Champions League',\n",
       " 'UEFA Europa League',\n",
       " 'United Soccer League'}"
      ]
     },
     "execution_count": 168,
     "metadata": {},
     "output_type": "execute_result"
    }
   ],
   "source": [
    "set(spi['league'])"
   ]
  },
  {
   "cell_type": "code",
   "execution_count": 279,
   "metadata": {
    "hidden": true
   },
   "outputs": [],
   "source": [
    "new_spi = spi[(spi['league']=='Barclays Premier League') |\n",
    "             (spi['league']=='French Ligue 1') |\n",
    "             (spi['league']=='German Bundesliga') |\n",
    "             (spi['league']=='Italy Serie A') |\n",
    "             (spi['league']=='Portuguese Liga') |\n",
    "             (spi['league']=='Spanish Primera Division') |\n",
    "             (spi['league']=='Dutch Eredivisie') |\n",
    "             (spi['league']=='Turkish Turkcell Super Lig') |\n",
    "             (spi['league']=='English League Championship')|\n",
    "             (spi['league']=='Spanish Segunda Division')|\n",
    "             (spi['league']=='French Ligue 2')|\n",
    "             (spi['league']=='Italy Serie B') |\n",
    "             (spi['league']=='German 2. Bundesliga') | \n",
    "             (spi['league']=='Greek Super League') |\n",
    "             (spi['league']=='Belgian Jupiler League') |\n",
    "             (spi['league']=='Scottish Premiership') |\n",
    "             (spi['league']=='English League One')]"
   ]
  },
  {
   "cell_type": "code",
   "execution_count": 297,
   "metadata": {
    "collapsed": true,
    "hidden": true
   },
   "outputs": [
    {
     "name": "stderr",
     "output_type": "stream",
     "text": [
      "/usr/local/lib/python3.7/site-packages/ipykernel_launcher.py:1: SettingWithCopyWarning: \n",
      "A value is trying to be set on a copy of a slice from a DataFrame.\n",
      "Try using .loc[row_indexer,col_indexer] = value instead\n",
      "\n",
      "See the caveats in the documentation: http://pandas.pydata.org/pandas-docs/stable/user_guide/indexing.html#returning-a-view-versus-a-copy\n",
      "  \"\"\"Entry point for launching an IPython kernel.\n",
      "/usr/local/lib/python3.7/site-packages/ipykernel_launcher.py:2: SettingWithCopyWarning: \n",
      "A value is trying to be set on a copy of a slice from a DataFrame.\n",
      "Try using .loc[row_indexer,col_indexer] = value instead\n",
      "\n",
      "See the caveats in the documentation: http://pandas.pydata.org/pandas-docs/stable/user_guide/indexing.html#returning-a-view-versus-a-copy\n",
      "  \n",
      "/usr/local/lib/python3.7/site-packages/ipykernel_launcher.py:4: SettingWithCopyWarning: \n",
      "A value is trying to be set on a copy of a slice from a DataFrame.\n",
      "Try using .loc[row_indexer,col_indexer] = value instead\n",
      "\n",
      "See the caveats in the documentation: http://pandas.pydata.org/pandas-docs/stable/user_guide/indexing.html#returning-a-view-versus-a-copy\n",
      "  after removing the cwd from sys.path.\n",
      "/usr/local/lib/python3.7/site-packages/ipykernel_launcher.py:5: SettingWithCopyWarning: \n",
      "A value is trying to be set on a copy of a slice from a DataFrame.\n",
      "Try using .loc[row_indexer,col_indexer] = value instead\n",
      "\n",
      "See the caveats in the documentation: http://pandas.pydata.org/pandas-docs/stable/user_guide/indexing.html#returning-a-view-versus-a-copy\n",
      "  \"\"\"\n",
      "/usr/local/lib/python3.7/site-packages/ipykernel_launcher.py:7: SettingWithCopyWarning: \n",
      "A value is trying to be set on a copy of a slice from a DataFrame.\n",
      "Try using .loc[row_indexer,col_indexer] = value instead\n",
      "\n",
      "See the caveats in the documentation: http://pandas.pydata.org/pandas-docs/stable/user_guide/indexing.html#returning-a-view-versus-a-copy\n",
      "  import sys\n",
      "/usr/local/lib/python3.7/site-packages/ipykernel_launcher.py:8: SettingWithCopyWarning: \n",
      "A value is trying to be set on a copy of a slice from a DataFrame.\n",
      "Try using .loc[row_indexer,col_indexer] = value instead\n",
      "\n",
      "See the caveats in the documentation: http://pandas.pydata.org/pandas-docs/stable/user_guide/indexing.html#returning-a-view-versus-a-copy\n",
      "  \n",
      "/usr/local/lib/python3.7/site-packages/ipykernel_launcher.py:10: SettingWithCopyWarning: \n",
      "A value is trying to be set on a copy of a slice from a DataFrame.\n",
      "Try using .loc[row_indexer,col_indexer] = value instead\n",
      "\n",
      "See the caveats in the documentation: http://pandas.pydata.org/pandas-docs/stable/user_guide/indexing.html#returning-a-view-versus-a-copy\n",
      "  # Remove the CWD from sys.path while we load stuff.\n",
      "/usr/local/lib/python3.7/site-packages/ipykernel_launcher.py:11: SettingWithCopyWarning: \n",
      "A value is trying to be set on a copy of a slice from a DataFrame.\n",
      "Try using .loc[row_indexer,col_indexer] = value instead\n",
      "\n",
      "See the caveats in the documentation: http://pandas.pydata.org/pandas-docs/stable/user_guide/indexing.html#returning-a-view-versus-a-copy\n",
      "  # This is added back by InteractiveShellApp.init_path()\n",
      "/usr/local/lib/python3.7/site-packages/ipykernel_launcher.py:13: SettingWithCopyWarning: \n",
      "A value is trying to be set on a copy of a slice from a DataFrame.\n",
      "Try using .loc[row_indexer,col_indexer] = value instead\n",
      "\n",
      "See the caveats in the documentation: http://pandas.pydata.org/pandas-docs/stable/user_guide/indexing.html#returning-a-view-versus-a-copy\n",
      "  del sys.path[0]\n",
      "/usr/local/lib/python3.7/site-packages/ipykernel_launcher.py:14: SettingWithCopyWarning: \n",
      "A value is trying to be set on a copy of a slice from a DataFrame.\n",
      "Try using .loc[row_indexer,col_indexer] = value instead\n",
      "\n",
      "See the caveats in the documentation: http://pandas.pydata.org/pandas-docs/stable/user_guide/indexing.html#returning-a-view-versus-a-copy\n",
      "  \n",
      "/usr/local/lib/python3.7/site-packages/ipykernel_launcher.py:16: SettingWithCopyWarning: \n",
      "A value is trying to be set on a copy of a slice from a DataFrame.\n",
      "Try using .loc[row_indexer,col_indexer] = value instead\n",
      "\n",
      "See the caveats in the documentation: http://pandas.pydata.org/pandas-docs/stable/user_guide/indexing.html#returning-a-view-versus-a-copy\n",
      "  app.launch_new_instance()\n",
      "/usr/local/lib/python3.7/site-packages/ipykernel_launcher.py:17: SettingWithCopyWarning: \n",
      "A value is trying to be set on a copy of a slice from a DataFrame.\n",
      "Try using .loc[row_indexer,col_indexer] = value instead\n",
      "\n",
      "See the caveats in the documentation: http://pandas.pydata.org/pandas-docs/stable/user_guide/indexing.html#returning-a-view-versus-a-copy\n",
      "/usr/local/lib/python3.7/site-packages/ipykernel_launcher.py:19: SettingWithCopyWarning: \n",
      "A value is trying to be set on a copy of a slice from a DataFrame.\n",
      "Try using .loc[row_indexer,col_indexer] = value instead\n",
      "\n",
      "See the caveats in the documentation: http://pandas.pydata.org/pandas-docs/stable/user_guide/indexing.html#returning-a-view-versus-a-copy\n",
      "/usr/local/lib/python3.7/site-packages/ipykernel_launcher.py:20: SettingWithCopyWarning: \n",
      "A value is trying to be set on a copy of a slice from a DataFrame.\n",
      "Try using .loc[row_indexer,col_indexer] = value instead\n",
      "\n",
      "See the caveats in the documentation: http://pandas.pydata.org/pandas-docs/stable/user_guide/indexing.html#returning-a-view-versus-a-copy\n",
      "/usr/local/lib/python3.7/site-packages/ipykernel_launcher.py:22: SettingWithCopyWarning: \n",
      "A value is trying to be set on a copy of a slice from a DataFrame.\n",
      "Try using .loc[row_indexer,col_indexer] = value instead\n",
      "\n",
      "See the caveats in the documentation: http://pandas.pydata.org/pandas-docs/stable/user_guide/indexing.html#returning-a-view-versus-a-copy\n",
      "/usr/local/lib/python3.7/site-packages/ipykernel_launcher.py:23: SettingWithCopyWarning: \n",
      "A value is trying to be set on a copy of a slice from a DataFrame.\n",
      "Try using .loc[row_indexer,col_indexer] = value instead\n",
      "\n",
      "See the caveats in the documentation: http://pandas.pydata.org/pandas-docs/stable/user_guide/indexing.html#returning-a-view-versus-a-copy\n",
      "/usr/local/lib/python3.7/site-packages/ipykernel_launcher.py:25: SettingWithCopyWarning: \n",
      "A value is trying to be set on a copy of a slice from a DataFrame.\n",
      "Try using .loc[row_indexer,col_indexer] = value instead\n",
      "\n",
      "See the caveats in the documentation: http://pandas.pydata.org/pandas-docs/stable/user_guide/indexing.html#returning-a-view-versus-a-copy\n",
      "/usr/local/lib/python3.7/site-packages/ipykernel_launcher.py:26: SettingWithCopyWarning: \n",
      "A value is trying to be set on a copy of a slice from a DataFrame.\n",
      "Try using .loc[row_indexer,col_indexer] = value instead\n",
      "\n",
      "See the caveats in the documentation: http://pandas.pydata.org/pandas-docs/stable/user_guide/indexing.html#returning-a-view-versus-a-copy\n",
      "/usr/local/lib/python3.7/site-packages/ipykernel_launcher.py:28: SettingWithCopyWarning: \n",
      "A value is trying to be set on a copy of a slice from a DataFrame.\n",
      "Try using .loc[row_indexer,col_indexer] = value instead\n",
      "\n",
      "See the caveats in the documentation: http://pandas.pydata.org/pandas-docs/stable/user_guide/indexing.html#returning-a-view-versus-a-copy\n",
      "/usr/local/lib/python3.7/site-packages/ipykernel_launcher.py:29: SettingWithCopyWarning: \n",
      "A value is trying to be set on a copy of a slice from a DataFrame.\n",
      "Try using .loc[row_indexer,col_indexer] = value instead\n",
      "\n",
      "See the caveats in the documentation: http://pandas.pydata.org/pandas-docs/stable/user_guide/indexing.html#returning-a-view-versus-a-copy\n",
      "/usr/local/lib/python3.7/site-packages/ipykernel_launcher.py:31: SettingWithCopyWarning: \n",
      "A value is trying to be set on a copy of a slice from a DataFrame.\n",
      "Try using .loc[row_indexer,col_indexer] = value instead\n",
      "\n",
      "See the caveats in the documentation: http://pandas.pydata.org/pandas-docs/stable/user_guide/indexing.html#returning-a-view-versus-a-copy\n",
      "/usr/local/lib/python3.7/site-packages/ipykernel_launcher.py:32: SettingWithCopyWarning: \n",
      "A value is trying to be set on a copy of a slice from a DataFrame.\n",
      "Try using .loc[row_indexer,col_indexer] = value instead\n",
      "\n",
      "See the caveats in the documentation: http://pandas.pydata.org/pandas-docs/stable/user_guide/indexing.html#returning-a-view-versus-a-copy\n",
      "/usr/local/lib/python3.7/site-packages/ipykernel_launcher.py:34: SettingWithCopyWarning: \n",
      "A value is trying to be set on a copy of a slice from a DataFrame.\n",
      "Try using .loc[row_indexer,col_indexer] = value instead\n",
      "\n",
      "See the caveats in the documentation: http://pandas.pydata.org/pandas-docs/stable/user_guide/indexing.html#returning-a-view-versus-a-copy\n",
      "/usr/local/lib/python3.7/site-packages/ipykernel_launcher.py:35: SettingWithCopyWarning: \n",
      "A value is trying to be set on a copy of a slice from a DataFrame.\n",
      "Try using .loc[row_indexer,col_indexer] = value instead\n",
      "\n",
      "See the caveats in the documentation: http://pandas.pydata.org/pandas-docs/stable/user_guide/indexing.html#returning-a-view-versus-a-copy\n",
      "/usr/local/lib/python3.7/site-packages/ipykernel_launcher.py:37: SettingWithCopyWarning: \n",
      "A value is trying to be set on a copy of a slice from a DataFrame.\n",
      "Try using .loc[row_indexer,col_indexer] = value instead\n",
      "\n",
      "See the caveats in the documentation: http://pandas.pydata.org/pandas-docs/stable/user_guide/indexing.html#returning-a-view-versus-a-copy\n",
      "/usr/local/lib/python3.7/site-packages/ipykernel_launcher.py:38: SettingWithCopyWarning: \n",
      "A value is trying to be set on a copy of a slice from a DataFrame.\n",
      "Try using .loc[row_indexer,col_indexer] = value instead\n",
      "\n",
      "See the caveats in the documentation: http://pandas.pydata.org/pandas-docs/stable/user_guide/indexing.html#returning-a-view-versus-a-copy\n",
      "/usr/local/lib/python3.7/site-packages/ipykernel_launcher.py:40: SettingWithCopyWarning: \n",
      "A value is trying to be set on a copy of a slice from a DataFrame.\n",
      "Try using .loc[row_indexer,col_indexer] = value instead\n",
      "\n",
      "See the caveats in the documentation: http://pandas.pydata.org/pandas-docs/stable/user_guide/indexing.html#returning-a-view-versus-a-copy\n",
      "/usr/local/lib/python3.7/site-packages/ipykernel_launcher.py:41: SettingWithCopyWarning: \n",
      "A value is trying to be set on a copy of a slice from a DataFrame.\n",
      "Try using .loc[row_indexer,col_indexer] = value instead\n",
      "\n",
      "See the caveats in the documentation: http://pandas.pydata.org/pandas-docs/stable/user_guide/indexing.html#returning-a-view-versus-a-copy\n",
      "/usr/local/lib/python3.7/site-packages/ipykernel_launcher.py:43: SettingWithCopyWarning: \n",
      "A value is trying to be set on a copy of a slice from a DataFrame.\n",
      "Try using .loc[row_indexer,col_indexer] = value instead\n",
      "\n",
      "See the caveats in the documentation: http://pandas.pydata.org/pandas-docs/stable/user_guide/indexing.html#returning-a-view-versus-a-copy\n",
      "/usr/local/lib/python3.7/site-packages/ipykernel_launcher.py:44: SettingWithCopyWarning: \n",
      "A value is trying to be set on a copy of a slice from a DataFrame.\n",
      "Try using .loc[row_indexer,col_indexer] = value instead\n",
      "\n",
      "See the caveats in the documentation: http://pandas.pydata.org/pandas-docs/stable/user_guide/indexing.html#returning-a-view-versus-a-copy\n",
      "/usr/local/lib/python3.7/site-packages/ipykernel_launcher.py:46: SettingWithCopyWarning: \n",
      "A value is trying to be set on a copy of a slice from a DataFrame.\n",
      "Try using .loc[row_indexer,col_indexer] = value instead\n",
      "\n",
      "See the caveats in the documentation: http://pandas.pydata.org/pandas-docs/stable/user_guide/indexing.html#returning-a-view-versus-a-copy\n",
      "/usr/local/lib/python3.7/site-packages/ipykernel_launcher.py:47: SettingWithCopyWarning: \n",
      "A value is trying to be set on a copy of a slice from a DataFrame.\n",
      "Try using .loc[row_indexer,col_indexer] = value instead\n",
      "\n",
      "See the caveats in the documentation: http://pandas.pydata.org/pandas-docs/stable/user_guide/indexing.html#returning-a-view-versus-a-copy\n",
      "/usr/local/lib/python3.7/site-packages/ipykernel_launcher.py:49: SettingWithCopyWarning: \n",
      "A value is trying to be set on a copy of a slice from a DataFrame.\n",
      "Try using .loc[row_indexer,col_indexer] = value instead\n",
      "\n",
      "See the caveats in the documentation: http://pandas.pydata.org/pandas-docs/stable/user_guide/indexing.html#returning-a-view-versus-a-copy\n",
      "/usr/local/lib/python3.7/site-packages/ipykernel_launcher.py:50: SettingWithCopyWarning: \n",
      "A value is trying to be set on a copy of a slice from a DataFrame.\n",
      "Try using .loc[row_indexer,col_indexer] = value instead\n",
      "\n",
      "See the caveats in the documentation: http://pandas.pydata.org/pandas-docs/stable/user_guide/indexing.html#returning-a-view-versus-a-copy\n"
     ]
    }
   ],
   "source": [
    "pt['HomeTeam']=pt.HomeTeam.replace('Aves','Desportivo Aves').replace('Porto','FC Porto').replace('Sp Braga','Braga').replace('Sp Lisbon','Sporting CP').replace('Setubal','Vitoria Setubal')\n",
    "pt['AwayTeam']=pt.AwayTeam.replace('Aves','Desportivo Aves').replace('Porto','FC Porto').replace('Sp Braga','Braga').replace('Sp Lisbon','Sporting CP').replace('Setubal','Vitoria Setubal')\n",
    "\n",
    "ger['HomeTeam'] = ger.HomeTeam.replace('Augsburg','FC Augsburg').replace('Union Berlin','1. FC Union Berlin').replace('Leverkusen','Bayer Leverkusen').replace('Dortmund','Borussia Dortmund').replace(\"M'gladbach\",'Borussia Monchengladbach').replace('Ein Frankfurt','Eintracht Frankfurt').replace('FC Koln','FC Cologne').replace('Fortuna Dusseldorf','Fortuna Düsseldorf').replace('Hertha','Hertha Berlin').replace('Freiburg','SC Freiburg').replace('Paderborn','SC Paderborn').replace('Hoffenheim','TSG Hoffenheim').replace('Wolfsburg','VfL Wolfsburg')         \n",
    "ger['AwayTeam'] = ger.AwayTeam.replace('Augsburg','FC Augsburg').replace('Union Berlin','1. FC Union Berlin').replace('Leverkusen','Bayer Leverkusen').replace('Dortmund','Borussia Dortmund').replace(\"M'gladbach\",'Borussia Monchengladbach').replace('Ein Frankfurt','Eintracht Frankfurt').replace('FC Koln','FC Cologne').replace('Fortuna Dusseldorf','Fortuna Düsseldorf').replace('Hertha','Hertha Berlin').replace('Freiburg','SC Freiburg').replace('Paderborn','SC Paderborn').replace('Hoffenheim','TSG Hoffenheim').replace('Wolfsburg','VfL Wolfsburg')         \n",
    "\n",
    "fr['HomeTeam']=fr.HomeTeam.replace('Dijon','Dijon FCO').replace('Monaco','AS Monaco').replace('Paris SG','Paris Saint-Germain').replace('Rennes','Stade Rennes')\n",
    "fr['AwayTeam']=fr.AwayTeam.replace('Dijon','Dijon FCO').replace('Monaco','AS Monaco').replace('Paris SG','Paris Saint-Germain').replace('Rennes','Stade Rennes')\n",
    "\n",
    "en['HomeTeam']=en.HomeTeam.replace('Bournemouth','AFC Bournemouth').replace('Brighton','Brighton and Hove Albion').replace('Leicester','Leicester City').replace('Man City','Manchester City').replace('Man United','Manchester United').replace('Norwich','Norwich City').replace('Tottenham','Tottenham Hotspur').replace('West Ham','West Ham United').replace('Wolves','Wolverhampton')\n",
    "en['AwayTeam']=en.AwayTeam.replace('Bournemouth','AFC Bournemouth').replace('Brighton','Brighton and Hove Albion').replace('Leicester','Leicester City').replace('Man City','Manchester City').replace('Man United','Manchester United').replace('Norwich','Norwich City').replace('Tottenham','Tottenham Hotspur').replace('West Ham','West Ham United').replace('Wolves','Wolverhampton')\n",
    "\n",
    "es['HomeTeam']=es.HomeTeam.replace('Alaves','Alavés').replace('Ath Bilbao','Athletic Bilbao').replace('Ath Madrid','Atletico Madrid').replace('Betis','Real Betis').replace('Celta','Celta Vigo').replace('Espanol','Espanyol').replace('Sevilla','Sevilla FC').replace('Sociedad','Real Sociedad').replace('Valladolid','Real Valladolid')\n",
    "es['AwayTeam']=es.AwayTeam.replace('Alaves','Alavés').replace('Ath Bilbao','Athletic Bilbao').replace('Ath Madrid','Atletico Madrid').replace('Betis','Real Betis').replace('Celta','Celta Vigo').replace('Espanol','Espanyol').replace('Sevilla','Sevilla FC').replace('Sociedad','Real Sociedad').replace('Valladolid','Real Valladolid')\n",
    "\n",
    "it['HomeTeam']=it.HomeTeam.replace('Inter','Internazionale').replace('Milan','AC Milan').replace('Roma','AS Roma')\n",
    "it['AwayTeam']=it.AwayTeam.replace('Inter','Internazionale').replace('Milan','AC Milan').replace('Roma','AS Roma')\n",
    "\n",
    "nl['HomeTeam']=nl.HomeTeam.replace('AZ Alkmaar','AZ').replace('Den Haag','ADO Den Haag').replace('FC Emmen','Emmen').replace('For Sittard','Fortuna Sittard').replace('Groningen','FC Groningen').replace('PSV Eindhoven','PSV').replace('Sparta Rotterdam','Sparta').replace('Twente','FC Twente').replace('Utrecht','FC Utrecht').replace('Waalwijk','RKC').replace('Zwolle','PEC Zwolle')\n",
    "nl['AwayTeam']=nl.AwayTeam.replace('AZ Alkmaar','AZ').replace('Den Haag','ADO Den Haag').replace('FC Emmen','Emmen').replace('For Sittard','Fortuna Sittard').replace('Groningen','FC Groningen').replace('PSV Eindhoven','PSV').replace('Sparta Rotterdam','Sparta').replace('Twente','FC Twente').replace('Utrecht','FC Utrecht').replace('Waalwijk','RKC').replace('Zwolle','PEC Zwolle')\n",
    "\n",
    "tk['HomeTeam']=tk.HomeTeam.replace('Buyuksehyr','Istanbul Basaksehir').replace('Gaziantep','Gazisehir Gaziantep').replace('Rizespor','Caykur Rizespor').replace('Goztep','Goztepe')\n",
    "tk['AwayTeam']=tk.AwayTeam.replace('Buyuksehyr','Istanbul Basaksehir').replace('Gaziantep','Gazisehir Gaziantep').replace('Rizespor','Caykur Rizespor').replace('Goztep','Goztepe')\n",
    "\n",
    "en2['HomeTeam'] = en2.HomeTeam.replace('Cardiff','Cardiff City').replace('Charlton','Charlton Athletic').replace('Derby','Derby County').replace('Huddersfield','Huddersfield Town').replace('Hull','Hull City').replace('Leeds','Leeds United').replace('Luton','Luton Town').replace(\"Nott'm Forest\",'Nottingham Forest').replace('Preston','Preston North End').replace('QPR','Queens Park Rangers').replace('Sheffield Weds','Sheffield Wednesday').replace('Stoke','Stoke City').replace( 'Swansea','Swansea City').replace('West Brom','West Bromwich Albion')\n",
    "en2['AwayTeam'] = en2.AwayTeam.replace('Cardiff','Cardiff City').replace('Charlton','Charlton Athletic').replace('Derby','Derby County').replace('Huddersfield','Huddersfield Town').replace('Hull','Hull City').replace('Leeds','Leeds United').replace('Luton','Luton Town').replace(\"Nott'm Forest\",'Nottingham Forest').replace('Preston','Preston North End').replace('QPR','Queens Park Rangers').replace('Sheffield Weds','Sheffield Wednesday').replace('Stoke','Stoke City').replace( 'Swansea','Swansea City').replace('West Brom','West Bromwich Albion')\n",
    "\n",
    "es2['HomeTeam']=es2.HomeTeam.replace('Alcorcon','AD Alcorcon').replace('Girona','Girona FC').replace('Huesca','SD Huesca').replace('La Coruna','Deportivo La Coruña').replace('Malaga','Málaga').replace('Oviedo','Real Oviedo').replace('Ponferradina','SD Ponferradina').replace('Santander','Racing Santander').replace('Sp Gijon','Sporting Gijón').replace('Vallecano','Rayo Vallecano').replace('Zaragoza','Real Zaragoza')\n",
    "es2['AwayTeam']=es2.AwayTeam.replace('Alcorcon','AD Alcorcon').replace('Girona','Girona FC').replace('Huesca','SD Huesca').replace('La Coruna','Deportivo La Coruña').replace('Malaga','Málaga').replace('Oviedo','Real Oviedo').replace('Ponferradina','SD Ponferradina').replace('Santander','Racing Santander').replace('Sp Gijon','Sporting Gijón').replace('Vallecano','Rayo Vallecano').replace('Zaragoza','Real Zaragoza')\n",
    "\n",
    "it2['HomeTeam']=it2.HomeTeam.replace('Chievo','Chievo Verona').replace('Pescara','US Pescara').replace('Pordenone','Pordenone Calcio').replace('Venezia','F.B.C Unione Venezia')\n",
    "it2['AwayTeam']=it2.AwayTeam.replace('Chievo','Chievo Verona').replace('Pescara','US Pescara').replace('Pordenone','Pordenone Calcio').replace('Venezia','F.B.C Unione Venezia')\n",
    "\n",
    "fr2['HomeTeam']=fr2.HomeTeam.replace('Ajaccio','AC Ajaccio').replace('Chambly','Chambly Thelle FC').replace('Clermont','Clermont Foot').replace('Nancy','AS Nancy Lorraine').replace('Orleans','Orléans')\n",
    "fr2['AwayTeam']=fr2.AwayTeam.replace('Ajaccio','AC Ajaccio').replace('Chambly','Chambly Thelle FC').replace('Clermont','Clermont Foot').replace('Nancy','AS Nancy Lorraine').replace('Orleans','Orléans')\n",
    "\n",
    "ger2['HomeTeam']=ger2.HomeTeam.replace('Bielefeld','Arminia Bielefeld').replace('Bochum','VfL Bochum').replace('Darmstadt','SV Darmstadt 98').replace('Dresden','Dynamo Dresden').replace('Greuther Furth','SpVgg Greuther Fürth').replace('Hamburg','Hamburg SV').replace('Hannover','Hannover 96').replace('Heidenheim','1. FC Heidenheim 1846').replace('Karlsruhe','Karlsruher SC').replace('Nurnberg','1. FC Nürnberg').replace('Osnabruck','VfL Osnabruck').replace('Regensburg','Jahn Regensburg').replace('Sandhausen','SV Sandhausen').replace('St Pauli','FC St. Pauli').replace('Stuttgart','VfB Stuttgart').replace('Wehen','SV Wehen Wiesbaden')\n",
    "ger2['AwayTeam']=ger2.AwayTeam.replace('Bielefeld','Arminia Bielefeld').replace('Bochum','VfL Bochum').replace('Darmstadt','SV Darmstadt 98').replace('Dresden','Dynamo Dresden').replace('Greuther Furth','SpVgg Greuther Fürth').replace('Hamburg','Hamburg SV').replace('Hannover','Hannover 96').replace('Heidenheim','1. FC Heidenheim 1846').replace('Karlsruhe','Karlsruher SC').replace('Nurnberg','1. FC Nürnberg').replace('Osnabruck','VfL Osnabruck').replace('Regensburg','Jahn Regensburg').replace('Sandhausen','SV Sandhausen').replace('St Pauli','FC St. Pauli').replace('Stuttgart','VfB Stuttgart').replace('Wehen','SV Wehen Wiesbaden')\n",
    "\n",
    "gr['HomeTeam'] = gr.HomeTeam.replace('AEK','AEK Athens').replace('Aris','Aris Salonika').replace('Larisa','Larissa').replace('PAOK','PAOK Salonika').replace('Xanthi','FC Xanthi').replace('Olympiakos','Olympiacos')\n",
    "gr['AwayTeam'] = gr.AwayTeam.replace('AEK','AEK Athens').replace('Aris','Aris Salonika').replace('Larisa','Larissa').replace('PAOK','PAOK Salonika').replace('Xanthi','FC Xanthi').replace('Olympiakos','Olympiacos')\n",
    "\n",
    "bg['HomeTeam']=bg.HomeTeam.replace('Charleroi','Sporting de Charleroi').replace('Gent','KAA Gent').replace('Kortrijk','KV Kortrijk').replace('Mechelen','KV Mechelen').replace('Mouscron','Mouscron-Peruwelz').replace('Oostende','KV Oostende').replace('St Truiden','St. Truidense').replace('Standard','Standard Liege').replace('Waregem','SV Zulte Waregem')\n",
    "bg['AwayTeam']=bg.AwayTeam.replace('Charleroi','Sporting de Charleroi').replace('Gent','KAA Gent').replace('Kortrijk','KV Kortrijk').replace('Mechelen','KV Mechelen').replace('Mouscron','Mouscron-Peruwelz').replace('Oostende','KV Oostende').replace('St Truiden','St. Truidense').replace('Standard','Standard Liege').replace('Waregem','SV Zulte Waregem')\n",
    "\n",
    "sc['HomeTeam']=sc.HomeTeam.replace('Hamilton','Hamilton Academical')\n",
    "sc['AwayTeam']=sc.AwayTeam.replace('Hamilton','Hamilton Academical')\n",
    "\n",
    "en3['HomeTeam']=en3.HomeTeam.replace('Accrington','Accrington Stanley').replace('Bristol Rvs','Bristol Rovers').replace('Burton','Burton Albion').replace('Coventry','Coventry City').replace('Doncaster','Doncaster Rovers').replace('Ipswich','Ipswich Town').replace('Lincoln','Lincoln City').replace('Oxford','Oxford United').replace('Peterboro','Peterborough United').replace('Rotherham','Rotherham United').replace('Shrewsbury','Shrewsbury Town').replace('Southend','Southend United').replace('Tranmere','Tranmere Rovers').replace('Wycombe','Wycombe Wanderers')\n",
    "en3['AwayTeam']=en3.AwayTeam.replace('Accrington','Accrington Stanley').replace('Bristol Rvs','Bristol Rovers').replace('Burton','Burton Albion').replace('Coventry','Coventry City').replace('Doncaster','Doncaster Rovers').replace('Ipswich','Ipswich Town').replace('Lincoln','Lincoln City').replace('Oxford','Oxford United').replace('Peterboro','Peterborough United').replace('Rotherham','Rotherham United').replace('Shrewsbury','Shrewsbury Town').replace('Southend','Southend United').replace('Tranmere','Tranmere Rovers').replace('Wycombe','Wycombe Wanderers')"
   ]
  },
  {
   "cell_type": "markdown",
   "metadata": {
    "heading_collapsed": true
   },
   "source": [
    "# Steps"
   ]
  },
  {
   "cell_type": "code",
   "execution_count": 298,
   "metadata": {
    "hidden": true
   },
   "outputs": [],
   "source": [
    "aa = pd.concat([pt,en,es,it,ger,fr,nl,tk,en2,es2,it2,ger2,fr2,gr,bg,sc,en3], axis=0)"
   ]
  },
  {
   "cell_type": "code",
   "execution_count": 299,
   "metadata": {
    "cell_style": "split",
    "hidden": true,
    "scrolled": true
   },
   "outputs": [
    {
     "data": {
      "text/html": [
       "<div>\n",
       "<style scoped>\n",
       "    .dataframe tbody tr th:only-of-type {\n",
       "        vertical-align: middle;\n",
       "    }\n",
       "\n",
       "    .dataframe tbody tr th {\n",
       "        vertical-align: top;\n",
       "    }\n",
       "\n",
       "    .dataframe thead th {\n",
       "        text-align: right;\n",
       "    }\n",
       "</style>\n",
       "<table border=\"1\" class=\"dataframe\">\n",
       "  <thead>\n",
       "    <tr style=\"text-align: right;\">\n",
       "      <th></th>\n",
       "      <th>Date</th>\n",
       "      <th>HomeTeam</th>\n",
       "      <th>AwayTeam</th>\n",
       "      <th>FTHG</th>\n",
       "      <th>FTAG</th>\n",
       "      <th>HTHG</th>\n",
       "      <th>HTAG</th>\n",
       "      <th>DIF_F</th>\n",
       "      <th>DIF_H</th>\n",
       "      <th>FTG</th>\n",
       "      <th>HTG</th>\n",
       "    </tr>\n",
       "  </thead>\n",
       "  <tbody>\n",
       "    <tr>\n",
       "      <th>0</th>\n",
       "      <td>09/08/2019</td>\n",
       "      <td>Portimonense</td>\n",
       "      <td>Belenenses</td>\n",
       "      <td>0</td>\n",
       "      <td>0</td>\n",
       "      <td>0</td>\n",
       "      <td>0</td>\n",
       "      <td>0</td>\n",
       "      <td>0</td>\n",
       "      <td>0</td>\n",
       "      <td>0</td>\n",
       "    </tr>\n",
       "    <tr>\n",
       "      <th>1</th>\n",
       "      <td>10/08/2019</td>\n",
       "      <td>Santa Clara</td>\n",
       "      <td>Famalicao</td>\n",
       "      <td>0</td>\n",
       "      <td>2</td>\n",
       "      <td>0</td>\n",
       "      <td>1</td>\n",
       "      <td>-2</td>\n",
       "      <td>-1</td>\n",
       "      <td>2</td>\n",
       "      <td>1</td>\n",
       "    </tr>\n",
       "    <tr>\n",
       "      <th>2</th>\n",
       "      <td>10/08/2019</td>\n",
       "      <td>Gil Vicente</td>\n",
       "      <td>FC Porto</td>\n",
       "      <td>2</td>\n",
       "      <td>1</td>\n",
       "      <td>0</td>\n",
       "      <td>0</td>\n",
       "      <td>1</td>\n",
       "      <td>0</td>\n",
       "      <td>3</td>\n",
       "      <td>0</td>\n",
       "    </tr>\n",
       "    <tr>\n",
       "      <th>3</th>\n",
       "      <td>10/08/2019</td>\n",
       "      <td>Benfica</td>\n",
       "      <td>Pacos Ferreira</td>\n",
       "      <td>5</td>\n",
       "      <td>0</td>\n",
       "      <td>2</td>\n",
       "      <td>0</td>\n",
       "      <td>5</td>\n",
       "      <td>2</td>\n",
       "      <td>5</td>\n",
       "      <td>2</td>\n",
       "    </tr>\n",
       "    <tr>\n",
       "      <th>4</th>\n",
       "      <td>11/08/2019</td>\n",
       "      <td>Boavista</td>\n",
       "      <td>Desportivo Aves</td>\n",
       "      <td>2</td>\n",
       "      <td>1</td>\n",
       "      <td>1</td>\n",
       "      <td>1</td>\n",
       "      <td>1</td>\n",
       "      <td>0</td>\n",
       "      <td>3</td>\n",
       "      <td>2</td>\n",
       "    </tr>\n",
       "    <tr>\n",
       "      <th>...</th>\n",
       "      <td>...</td>\n",
       "      <td>...</td>\n",
       "      <td>...</td>\n",
       "      <td>...</td>\n",
       "      <td>...</td>\n",
       "      <td>...</td>\n",
       "      <td>...</td>\n",
       "      <td>...</td>\n",
       "      <td>...</td>\n",
       "      <td>...</td>\n",
       "      <td>...</td>\n",
       "    </tr>\n",
       "    <tr>\n",
       "      <th>217</th>\n",
       "      <td>14/12/2019</td>\n",
       "      <td>Peterborough United</td>\n",
       "      <td>Bolton</td>\n",
       "      <td>1</td>\n",
       "      <td>0</td>\n",
       "      <td>1</td>\n",
       "      <td>0</td>\n",
       "      <td>1</td>\n",
       "      <td>1</td>\n",
       "      <td>1</td>\n",
       "      <td>1</td>\n",
       "    </tr>\n",
       "    <tr>\n",
       "      <th>218</th>\n",
       "      <td>14/12/2019</td>\n",
       "      <td>Shrewsbury Town</td>\n",
       "      <td>Coventry City</td>\n",
       "      <td>2</td>\n",
       "      <td>1</td>\n",
       "      <td>0</td>\n",
       "      <td>1</td>\n",
       "      <td>1</td>\n",
       "      <td>-1</td>\n",
       "      <td>3</td>\n",
       "      <td>1</td>\n",
       "    </tr>\n",
       "    <tr>\n",
       "      <th>219</th>\n",
       "      <td>14/12/2019</td>\n",
       "      <td>Southend United</td>\n",
       "      <td>Rotherham United</td>\n",
       "      <td>2</td>\n",
       "      <td>2</td>\n",
       "      <td>0</td>\n",
       "      <td>1</td>\n",
       "      <td>0</td>\n",
       "      <td>-1</td>\n",
       "      <td>4</td>\n",
       "      <td>1</td>\n",
       "    </tr>\n",
       "    <tr>\n",
       "      <th>220</th>\n",
       "      <td>14/12/2019</td>\n",
       "      <td>Sunderland</td>\n",
       "      <td>Blackpool</td>\n",
       "      <td>1</td>\n",
       "      <td>1</td>\n",
       "      <td>1</td>\n",
       "      <td>1</td>\n",
       "      <td>0</td>\n",
       "      <td>0</td>\n",
       "      <td>2</td>\n",
       "      <td>2</td>\n",
       "    </tr>\n",
       "    <tr>\n",
       "      <th>221</th>\n",
       "      <td>14/12/2019</td>\n",
       "      <td>Wycombe Wanderers</td>\n",
       "      <td>Burton Albion</td>\n",
       "      <td>2</td>\n",
       "      <td>0</td>\n",
       "      <td>1</td>\n",
       "      <td>0</td>\n",
       "      <td>2</td>\n",
       "      <td>1</td>\n",
       "      <td>2</td>\n",
       "      <td>1</td>\n",
       "    </tr>\n",
       "  </tbody>\n",
       "</table>\n",
       "<p>2774 rows × 11 columns</p>\n",
       "</div>"
      ],
      "text/plain": [
       "           Date             HomeTeam          AwayTeam  FTHG  FTAG  HTHG  \\\n",
       "0    09/08/2019         Portimonense        Belenenses     0     0     0   \n",
       "1    10/08/2019          Santa Clara         Famalicao     0     2     0   \n",
       "2    10/08/2019          Gil Vicente          FC Porto     2     1     0   \n",
       "3    10/08/2019              Benfica    Pacos Ferreira     5     0     2   \n",
       "4    11/08/2019             Boavista   Desportivo Aves     2     1     1   \n",
       "..          ...                  ...               ...   ...   ...   ...   \n",
       "217  14/12/2019  Peterborough United            Bolton     1     0     1   \n",
       "218  14/12/2019      Shrewsbury Town     Coventry City     2     1     0   \n",
       "219  14/12/2019      Southend United  Rotherham United     2     2     0   \n",
       "220  14/12/2019           Sunderland         Blackpool     1     1     1   \n",
       "221  14/12/2019    Wycombe Wanderers     Burton Albion     2     0     1   \n",
       "\n",
       "     HTAG  DIF_F  DIF_H  FTG  HTG  \n",
       "0       0      0      0    0    0  \n",
       "1       1     -2     -1    2    1  \n",
       "2       0      1      0    3    0  \n",
       "3       0      5      2    5    2  \n",
       "4       1      1      0    3    2  \n",
       "..    ...    ...    ...  ...  ...  \n",
       "217     0      1      1    1    1  \n",
       "218     1      1     -1    3    1  \n",
       "219     1      0     -1    4    1  \n",
       "220     1      0      0    2    2  \n",
       "221     0      2      1    2    1  \n",
       "\n",
       "[2774 rows x 11 columns]"
      ]
     },
     "execution_count": 299,
     "metadata": {},
     "output_type": "execute_result"
    }
   ],
   "source": [
    "aa"
   ]
  },
  {
   "cell_type": "code",
   "execution_count": 300,
   "metadata": {
    "cell_style": "split",
    "hidden": true
   },
   "outputs": [
    {
     "data": {
      "text/html": [
       "<div>\n",
       "<style scoped>\n",
       "    .dataframe tbody tr th:only-of-type {\n",
       "        vertical-align: middle;\n",
       "    }\n",
       "\n",
       "    .dataframe tbody tr th {\n",
       "        vertical-align: top;\n",
       "    }\n",
       "\n",
       "    .dataframe thead th {\n",
       "        text-align: right;\n",
       "    }\n",
       "</style>\n",
       "<table border=\"1\" class=\"dataframe\">\n",
       "  <thead>\n",
       "    <tr style=\"text-align: right;\">\n",
       "      <th></th>\n",
       "      <th>name</th>\n",
       "      <th>league</th>\n",
       "      <th>off</th>\n",
       "      <th>def</th>\n",
       "      <th>spi</th>\n",
       "    </tr>\n",
       "  </thead>\n",
       "  <tbody>\n",
       "    <tr>\n",
       "      <th>0</th>\n",
       "      <td>Manchester City</td>\n",
       "      <td>Barclays Premier League</td>\n",
       "      <td>3.31</td>\n",
       "      <td>0.26</td>\n",
       "      <td>94.90</td>\n",
       "    </tr>\n",
       "    <tr>\n",
       "      <th>1</th>\n",
       "      <td>Bayern Munich</td>\n",
       "      <td>German Bundesliga</td>\n",
       "      <td>3.39</td>\n",
       "      <td>0.42</td>\n",
       "      <td>93.51</td>\n",
       "    </tr>\n",
       "    <tr>\n",
       "      <th>2</th>\n",
       "      <td>Liverpool</td>\n",
       "      <td>Barclays Premier League</td>\n",
       "      <td>2.97</td>\n",
       "      <td>0.28</td>\n",
       "      <td>92.96</td>\n",
       "    </tr>\n",
       "    <tr>\n",
       "      <th>3</th>\n",
       "      <td>Paris Saint-Germain</td>\n",
       "      <td>French Ligue 1</td>\n",
       "      <td>2.93</td>\n",
       "      <td>0.48</td>\n",
       "      <td>89.81</td>\n",
       "    </tr>\n",
       "    <tr>\n",
       "      <th>4</th>\n",
       "      <td>Barcelona</td>\n",
       "      <td>Spanish Primera Division</td>\n",
       "      <td>2.95</td>\n",
       "      <td>0.49</td>\n",
       "      <td>89.78</td>\n",
       "    </tr>\n",
       "    <tr>\n",
       "      <th>...</th>\n",
       "      <td>...</td>\n",
       "      <td>...</td>\n",
       "      <td>...</td>\n",
       "      <td>...</td>\n",
       "      <td>...</td>\n",
       "    </tr>\n",
       "    <tr>\n",
       "      <th>586</th>\n",
       "      <td>Tranmere Rovers</td>\n",
       "      <td>English League One</td>\n",
       "      <td>0.60</td>\n",
       "      <td>2.17</td>\n",
       "      <td>14.67</td>\n",
       "    </tr>\n",
       "    <tr>\n",
       "      <th>588</th>\n",
       "      <td>AFC Wimbledon</td>\n",
       "      <td>English League One</td>\n",
       "      <td>0.52</td>\n",
       "      <td>2.02</td>\n",
       "      <td>14.54</td>\n",
       "    </tr>\n",
       "    <tr>\n",
       "      <th>601</th>\n",
       "      <td>Rochdale</td>\n",
       "      <td>English League One</td>\n",
       "      <td>0.48</td>\n",
       "      <td>2.18</td>\n",
       "      <td>12.20</td>\n",
       "    </tr>\n",
       "    <tr>\n",
       "      <th>608</th>\n",
       "      <td>Bolton</td>\n",
       "      <td>English League One</td>\n",
       "      <td>0.49</td>\n",
       "      <td>2.40</td>\n",
       "      <td>10.49</td>\n",
       "    </tr>\n",
       "    <tr>\n",
       "      <th>612</th>\n",
       "      <td>Southend United</td>\n",
       "      <td>English League One</td>\n",
       "      <td>0.58</td>\n",
       "      <td>2.76</td>\n",
       "      <td>9.37</td>\n",
       "    </tr>\n",
       "  </tbody>\n",
       "</table>\n",
       "<p>321 rows × 5 columns</p>\n",
       "</div>"
      ],
      "text/plain": [
       "                    name                    league   off   def    spi\n",
       "0        Manchester City   Barclays Premier League  3.31  0.26  94.90\n",
       "1          Bayern Munich         German Bundesliga  3.39  0.42  93.51\n",
       "2              Liverpool   Barclays Premier League  2.97  0.28  92.96\n",
       "3    Paris Saint-Germain            French Ligue 1  2.93  0.48  89.81\n",
       "4              Barcelona  Spanish Primera Division  2.95  0.49  89.78\n",
       "..                   ...                       ...   ...   ...    ...\n",
       "586      Tranmere Rovers        English League One  0.60  2.17  14.67\n",
       "588        AFC Wimbledon        English League One  0.52  2.02  14.54\n",
       "601             Rochdale        English League One  0.48  2.18  12.20\n",
       "608               Bolton        English League One  0.49  2.40  10.49\n",
       "612      Southend United        English League One  0.58  2.76   9.37\n",
       "\n",
       "[321 rows x 5 columns]"
      ]
     },
     "execution_count": 300,
     "metadata": {},
     "output_type": "execute_result"
    }
   ],
   "source": [
    "new_spi"
   ]
  },
  {
   "cell_type": "code",
   "execution_count": 301,
   "metadata": {
    "hidden": true
   },
   "outputs": [],
   "source": [
    "aa = aa.merge(new_spi,left_on=['HomeTeam'],right_on=['name'])"
   ]
  },
  {
   "cell_type": "code",
   "execution_count": 302,
   "metadata": {
    "hidden": true
   },
   "outputs": [
    {
     "data": {
      "text/html": [
       "<div>\n",
       "<style scoped>\n",
       "    .dataframe tbody tr th:only-of-type {\n",
       "        vertical-align: middle;\n",
       "    }\n",
       "\n",
       "    .dataframe tbody tr th {\n",
       "        vertical-align: top;\n",
       "    }\n",
       "\n",
       "    .dataframe thead th {\n",
       "        text-align: right;\n",
       "    }\n",
       "</style>\n",
       "<table border=\"1\" class=\"dataframe\">\n",
       "  <thead>\n",
       "    <tr style=\"text-align: right;\">\n",
       "      <th></th>\n",
       "      <th>Date</th>\n",
       "      <th>HomeTeam</th>\n",
       "      <th>AwayTeam</th>\n",
       "      <th>FTHG</th>\n",
       "      <th>FTAG</th>\n",
       "      <th>HTHG</th>\n",
       "      <th>HTAG</th>\n",
       "      <th>DIF_F</th>\n",
       "      <th>DIF_H</th>\n",
       "      <th>FTG</th>\n",
       "      <th>HTG</th>\n",
       "      <th>name</th>\n",
       "      <th>league</th>\n",
       "      <th>off</th>\n",
       "      <th>def</th>\n",
       "      <th>spi</th>\n",
       "    </tr>\n",
       "  </thead>\n",
       "  <tbody>\n",
       "    <tr>\n",
       "      <th>0</th>\n",
       "      <td>09/08/2019</td>\n",
       "      <td>Portimonense</td>\n",
       "      <td>Belenenses</td>\n",
       "      <td>0</td>\n",
       "      <td>0</td>\n",
       "      <td>0</td>\n",
       "      <td>0</td>\n",
       "      <td>0</td>\n",
       "      <td>0</td>\n",
       "      <td>0</td>\n",
       "      <td>0</td>\n",
       "      <td>Portimonense</td>\n",
       "      <td>Portuguese Liga</td>\n",
       "      <td>1.23</td>\n",
       "      <td>1.29</td>\n",
       "      <td>44.13</td>\n",
       "    </tr>\n",
       "    <tr>\n",
       "      <th>1</th>\n",
       "      <td>25/08/2019</td>\n",
       "      <td>Portimonense</td>\n",
       "      <td>Sporting CP</td>\n",
       "      <td>1</td>\n",
       "      <td>3</td>\n",
       "      <td>1</td>\n",
       "      <td>2</td>\n",
       "      <td>-2</td>\n",
       "      <td>-1</td>\n",
       "      <td>4</td>\n",
       "      <td>3</td>\n",
       "      <td>Portimonense</td>\n",
       "      <td>Portuguese Liga</td>\n",
       "      <td>1.23</td>\n",
       "      <td>1.29</td>\n",
       "      <td>44.13</td>\n",
       "    </tr>\n",
       "    <tr>\n",
       "      <th>2</th>\n",
       "      <td>15/09/2019</td>\n",
       "      <td>Portimonense</td>\n",
       "      <td>FC Porto</td>\n",
       "      <td>2</td>\n",
       "      <td>3</td>\n",
       "      <td>0</td>\n",
       "      <td>2</td>\n",
       "      <td>-1</td>\n",
       "      <td>-2</td>\n",
       "      <td>5</td>\n",
       "      <td>2</td>\n",
       "      <td>Portimonense</td>\n",
       "      <td>Portuguese Liga</td>\n",
       "      <td>1.23</td>\n",
       "      <td>1.29</td>\n",
       "      <td>44.13</td>\n",
       "    </tr>\n",
       "    <tr>\n",
       "      <th>3</th>\n",
       "      <td>29/09/2019</td>\n",
       "      <td>Portimonense</td>\n",
       "      <td>Braga</td>\n",
       "      <td>0</td>\n",
       "      <td>1</td>\n",
       "      <td>0</td>\n",
       "      <td>1</td>\n",
       "      <td>-1</td>\n",
       "      <td>-1</td>\n",
       "      <td>1</td>\n",
       "      <td>1</td>\n",
       "      <td>Portimonense</td>\n",
       "      <td>Portuguese Liga</td>\n",
       "      <td>1.23</td>\n",
       "      <td>1.29</td>\n",
       "      <td>44.13</td>\n",
       "    </tr>\n",
       "    <tr>\n",
       "      <th>4</th>\n",
       "      <td>04/11/2019</td>\n",
       "      <td>Portimonense</td>\n",
       "      <td>Santa Clara</td>\n",
       "      <td>1</td>\n",
       "      <td>1</td>\n",
       "      <td>1</td>\n",
       "      <td>0</td>\n",
       "      <td>0</td>\n",
       "      <td>1</td>\n",
       "      <td>2</td>\n",
       "      <td>1</td>\n",
       "      <td>Portimonense</td>\n",
       "      <td>Portuguese Liga</td>\n",
       "      <td>1.23</td>\n",
       "      <td>1.29</td>\n",
       "      <td>44.13</td>\n",
       "    </tr>\n",
       "    <tr>\n",
       "      <th>...</th>\n",
       "      <td>...</td>\n",
       "      <td>...</td>\n",
       "      <td>...</td>\n",
       "      <td>...</td>\n",
       "      <td>...</td>\n",
       "      <td>...</td>\n",
       "      <td>...</td>\n",
       "      <td>...</td>\n",
       "      <td>...</td>\n",
       "      <td>...</td>\n",
       "      <td>...</td>\n",
       "      <td>...</td>\n",
       "      <td>...</td>\n",
       "      <td>...</td>\n",
       "      <td>...</td>\n",
       "      <td>...</td>\n",
       "    </tr>\n",
       "    <tr>\n",
       "      <th>2769</th>\n",
       "      <td>05/10/2019</td>\n",
       "      <td>Accrington Stanley</td>\n",
       "      <td>Oxford United</td>\n",
       "      <td>2</td>\n",
       "      <td>2</td>\n",
       "      <td>0</td>\n",
       "      <td>1</td>\n",
       "      <td>0</td>\n",
       "      <td>-1</td>\n",
       "      <td>4</td>\n",
       "      <td>1</td>\n",
       "      <td>Accrington Stanley</td>\n",
       "      <td>English League One</td>\n",
       "      <td>0.62</td>\n",
       "      <td>1.97</td>\n",
       "      <td>17.25</td>\n",
       "    </tr>\n",
       "    <tr>\n",
       "      <th>2770</th>\n",
       "      <td>20/10/2019</td>\n",
       "      <td>Accrington Stanley</td>\n",
       "      <td>Ipswich Town</td>\n",
       "      <td>2</td>\n",
       "      <td>0</td>\n",
       "      <td>2</td>\n",
       "      <td>0</td>\n",
       "      <td>2</td>\n",
       "      <td>2</td>\n",
       "      <td>2</td>\n",
       "      <td>2</td>\n",
       "      <td>Accrington Stanley</td>\n",
       "      <td>English League One</td>\n",
       "      <td>0.62</td>\n",
       "      <td>1.97</td>\n",
       "      <td>17.25</td>\n",
       "    </tr>\n",
       "    <tr>\n",
       "      <th>2771</th>\n",
       "      <td>26/10/2019</td>\n",
       "      <td>Accrington Stanley</td>\n",
       "      <td>Gillingham</td>\n",
       "      <td>0</td>\n",
       "      <td>1</td>\n",
       "      <td>0</td>\n",
       "      <td>0</td>\n",
       "      <td>-1</td>\n",
       "      <td>0</td>\n",
       "      <td>1</td>\n",
       "      <td>0</td>\n",
       "      <td>Accrington Stanley</td>\n",
       "      <td>English League One</td>\n",
       "      <td>0.62</td>\n",
       "      <td>1.97</td>\n",
       "      <td>17.25</td>\n",
       "    </tr>\n",
       "    <tr>\n",
       "      <th>2772</th>\n",
       "      <td>23/11/2019</td>\n",
       "      <td>Accrington Stanley</td>\n",
       "      <td>Bolton</td>\n",
       "      <td>7</td>\n",
       "      <td>1</td>\n",
       "      <td>3</td>\n",
       "      <td>1</td>\n",
       "      <td>6</td>\n",
       "      <td>2</td>\n",
       "      <td>8</td>\n",
       "      <td>4</td>\n",
       "      <td>Accrington Stanley</td>\n",
       "      <td>English League One</td>\n",
       "      <td>0.62</td>\n",
       "      <td>1.97</td>\n",
       "      <td>17.25</td>\n",
       "    </tr>\n",
       "    <tr>\n",
       "      <th>2773</th>\n",
       "      <td>14/12/2019</td>\n",
       "      <td>Accrington Stanley</td>\n",
       "      <td>Portsmouth</td>\n",
       "      <td>4</td>\n",
       "      <td>1</td>\n",
       "      <td>1</td>\n",
       "      <td>1</td>\n",
       "      <td>3</td>\n",
       "      <td>0</td>\n",
       "      <td>5</td>\n",
       "      <td>2</td>\n",
       "      <td>Accrington Stanley</td>\n",
       "      <td>English League One</td>\n",
       "      <td>0.62</td>\n",
       "      <td>1.97</td>\n",
       "      <td>17.25</td>\n",
       "    </tr>\n",
       "  </tbody>\n",
       "</table>\n",
       "<p>2774 rows × 16 columns</p>\n",
       "</div>"
      ],
      "text/plain": [
       "            Date            HomeTeam       AwayTeam  FTHG  FTAG  HTHG  HTAG  \\\n",
       "0     09/08/2019        Portimonense     Belenenses     0     0     0     0   \n",
       "1     25/08/2019        Portimonense    Sporting CP     1     3     1     2   \n",
       "2     15/09/2019        Portimonense       FC Porto     2     3     0     2   \n",
       "3     29/09/2019        Portimonense          Braga     0     1     0     1   \n",
       "4     04/11/2019        Portimonense    Santa Clara     1     1     1     0   \n",
       "...          ...                 ...            ...   ...   ...   ...   ...   \n",
       "2769  05/10/2019  Accrington Stanley  Oxford United     2     2     0     1   \n",
       "2770  20/10/2019  Accrington Stanley   Ipswich Town     2     0     2     0   \n",
       "2771  26/10/2019  Accrington Stanley     Gillingham     0     1     0     0   \n",
       "2772  23/11/2019  Accrington Stanley         Bolton     7     1     3     1   \n",
       "2773  14/12/2019  Accrington Stanley     Portsmouth     4     1     1     1   \n",
       "\n",
       "      DIF_F  DIF_H  FTG  HTG                name              league   off  \\\n",
       "0         0      0    0    0        Portimonense     Portuguese Liga  1.23   \n",
       "1        -2     -1    4    3        Portimonense     Portuguese Liga  1.23   \n",
       "2        -1     -2    5    2        Portimonense     Portuguese Liga  1.23   \n",
       "3        -1     -1    1    1        Portimonense     Portuguese Liga  1.23   \n",
       "4         0      1    2    1        Portimonense     Portuguese Liga  1.23   \n",
       "...     ...    ...  ...  ...                 ...                 ...   ...   \n",
       "2769      0     -1    4    1  Accrington Stanley  English League One  0.62   \n",
       "2770      2      2    2    2  Accrington Stanley  English League One  0.62   \n",
       "2771     -1      0    1    0  Accrington Stanley  English League One  0.62   \n",
       "2772      6      2    8    4  Accrington Stanley  English League One  0.62   \n",
       "2773      3      0    5    2  Accrington Stanley  English League One  0.62   \n",
       "\n",
       "       def    spi  \n",
       "0     1.29  44.13  \n",
       "1     1.29  44.13  \n",
       "2     1.29  44.13  \n",
       "3     1.29  44.13  \n",
       "4     1.29  44.13  \n",
       "...    ...    ...  \n",
       "2769  1.97  17.25  \n",
       "2770  1.97  17.25  \n",
       "2771  1.97  17.25  \n",
       "2772  1.97  17.25  \n",
       "2773  1.97  17.25  \n",
       "\n",
       "[2774 rows x 16 columns]"
      ]
     },
     "execution_count": 302,
     "metadata": {},
     "output_type": "execute_result"
    }
   ],
   "source": [
    "aa"
   ]
  },
  {
   "cell_type": "code",
   "execution_count": 303,
   "metadata": {
    "hidden": true
   },
   "outputs": [],
   "source": [
    "aa.drop(columns=['name'],inplace=True)"
   ]
  },
  {
   "cell_type": "code",
   "execution_count": 304,
   "metadata": {
    "hidden": true
   },
   "outputs": [],
   "source": [
    "aa = aa.merge(new_spi,left_on=['AwayTeam'],right_on=['name'])"
   ]
  },
  {
   "cell_type": "code",
   "execution_count": 305,
   "metadata": {
    "hidden": true
   },
   "outputs": [],
   "source": [
    "#aa.drop(columns=['HomeTeam','AwayTeam','name'],inplace=True)"
   ]
  },
  {
   "cell_type": "code",
   "execution_count": 306,
   "metadata": {
    "hidden": true
   },
   "outputs": [],
   "source": [
    "lb_make = LabelEncoder()\n",
    "aa[\"new_home\"] = lb_make.fit_transform(aa['HomeTeam'])\n",
    "aa[\"new_away\"] = lb_make.fit_transform(aa['AwayTeam'])"
   ]
  },
  {
   "cell_type": "code",
   "execution_count": 307,
   "metadata": {
    "hidden": true
   },
   "outputs": [],
   "source": [
    "def switch(column):\n",
    "    for i in range(len(column)):\n",
    "        column[i] = column[i].split('/')\n",
    "        column[i] = column[i][1]+'/'+column[i][0]+'/'+column[i][2]\n",
    "    return column"
   ]
  },
  {
   "cell_type": "code",
   "execution_count": 308,
   "metadata": {
    "hidden": true
   },
   "outputs": [
    {
     "name": "stderr",
     "output_type": "stream",
     "text": [
      "/usr/local/lib/python3.7/site-packages/ipykernel_launcher.py:3: SettingWithCopyWarning: \n",
      "A value is trying to be set on a copy of a slice from a DataFrame\n",
      "\n",
      "See the caveats in the documentation: http://pandas.pydata.org/pandas-docs/stable/user_guide/indexing.html#returning-a-view-versus-a-copy\n",
      "  This is separate from the ipykernel package so we can avoid doing imports until\n",
      "/usr/local/lib/python3.7/site-packages/ipykernel_launcher.py:4: SettingWithCopyWarning: \n",
      "A value is trying to be set on a copy of a slice from a DataFrame\n",
      "\n",
      "See the caveats in the documentation: http://pandas.pydata.org/pandas-docs/stable/user_guide/indexing.html#returning-a-view-versus-a-copy\n",
      "  after removing the cwd from sys.path.\n"
     ]
    }
   ],
   "source": [
    "sd = switch(aa['Date'])"
   ]
  },
  {
   "cell_type": "code",
   "execution_count": 309,
   "metadata": {
    "hidden": true
   },
   "outputs": [],
   "source": [
    "sd =  pd.to_datetime(sd)"
   ]
  },
  {
   "cell_type": "code",
   "execution_count": 310,
   "metadata": {
    "hidden": true
   },
   "outputs": [],
   "source": [
    "aa['Date']=sd"
   ]
  },
  {
   "cell_type": "code",
   "execution_count": null,
   "metadata": {
    "hidden": true
   },
   "outputs": [],
   "source": []
  },
  {
   "cell_type": "code",
   "execution_count": 311,
   "metadata": {
    "hidden": true
   },
   "outputs": [],
   "source": [
    "aa[\"league_x\"] = lb_make.fit_transform(aa['league_x'])\n",
    "#aa[\"new_away\"] = lb_make.fit_transform(aa['AwayTeam'])"
   ]
  },
  {
   "cell_type": "code",
   "execution_count": 312,
   "metadata": {
    "hidden": true
   },
   "outputs": [],
   "source": [
    "first = aa[['Date','league_x','new_home','new_away','off_x','def_x','spi_x','off_y','def_y','spi_y','FTHG','FTAG','HTHG','HTAG','DIF_F','DIF_H','FTG','HTG']]"
   ]
  },
  {
   "cell_type": "code",
   "execution_count": 313,
   "metadata": {
    "hidden": true
   },
   "outputs": [
    {
     "data": {
      "text/html": [
       "<div>\n",
       "<style scoped>\n",
       "    .dataframe tbody tr th:only-of-type {\n",
       "        vertical-align: middle;\n",
       "    }\n",
       "\n",
       "    .dataframe tbody tr th {\n",
       "        vertical-align: top;\n",
       "    }\n",
       "\n",
       "    .dataframe thead th {\n",
       "        text-align: right;\n",
       "    }\n",
       "</style>\n",
       "<table border=\"1\" class=\"dataframe\">\n",
       "  <thead>\n",
       "    <tr style=\"text-align: right;\">\n",
       "      <th></th>\n",
       "      <th>Date</th>\n",
       "      <th>league_x</th>\n",
       "      <th>new_home</th>\n",
       "      <th>new_away</th>\n",
       "      <th>off_x</th>\n",
       "      <th>def_x</th>\n",
       "      <th>spi_x</th>\n",
       "      <th>off_y</th>\n",
       "      <th>def_y</th>\n",
       "      <th>spi_y</th>\n",
       "      <th>FTHG</th>\n",
       "      <th>FTAG</th>\n",
       "      <th>HTHG</th>\n",
       "      <th>HTAG</th>\n",
       "      <th>DIF_F</th>\n",
       "      <th>DIF_H</th>\n",
       "      <th>FTG</th>\n",
       "      <th>HTG</th>\n",
       "    </tr>\n",
       "  </thead>\n",
       "  <tbody>\n",
       "    <tr>\n",
       "      <th>1101</th>\n",
       "      <td>2019-12-16</td>\n",
       "      <td>16</td>\n",
       "      <td>148</td>\n",
       "      <td>160</td>\n",
       "      <td>1.49</td>\n",
       "      <td>1.01</td>\n",
       "      <td>57.04</td>\n",
       "      <td>0.98</td>\n",
       "      <td>1.32</td>\n",
       "      <td>36.97</td>\n",
       "      <td>1</td>\n",
       "      <td>1</td>\n",
       "      <td>1</td>\n",
       "      <td>0</td>\n",
       "      <td>0</td>\n",
       "      <td>1</td>\n",
       "      <td>2</td>\n",
       "      <td>1</td>\n",
       "    </tr>\n",
       "    <tr>\n",
       "      <th>1153</th>\n",
       "      <td>2019-12-16</td>\n",
       "      <td>16</td>\n",
       "      <td>292</td>\n",
       "      <td>85</td>\n",
       "      <td>1.74</td>\n",
       "      <td>1.17</td>\n",
       "      <td>58.62</td>\n",
       "      <td>0.98</td>\n",
       "      <td>1.41</td>\n",
       "      <td>35.11</td>\n",
       "      <td>1</td>\n",
       "      <td>2</td>\n",
       "      <td>1</td>\n",
       "      <td>0</td>\n",
       "      <td>-1</td>\n",
       "      <td>1</td>\n",
       "      <td>3</td>\n",
       "      <td>1</td>\n",
       "    </tr>\n",
       "    <tr>\n",
       "      <th>9</th>\n",
       "      <td>2019-12-16</td>\n",
       "      <td>12</td>\n",
       "      <td>258</td>\n",
       "      <td>273</td>\n",
       "      <td>1.25</td>\n",
       "      <td>1.28</td>\n",
       "      <td>44.97</td>\n",
       "      <td>1.68</td>\n",
       "      <td>0.93</td>\n",
       "      <td>63.10</td>\n",
       "      <td>0</td>\n",
       "      <td>4</td>\n",
       "      <td>0</td>\n",
       "      <td>1</td>\n",
       "      <td>-4</td>\n",
       "      <td>-1</td>\n",
       "      <td>4</td>\n",
       "      <td>1</td>\n",
       "    </tr>\n",
       "    <tr>\n",
       "      <th>122</th>\n",
       "      <td>2019-12-16</td>\n",
       "      <td>12</td>\n",
       "      <td>106</td>\n",
       "      <td>288</td>\n",
       "      <td>1.93</td>\n",
       "      <td>0.58</td>\n",
       "      <td>76.55</td>\n",
       "      <td>1.18</td>\n",
       "      <td>1.36</td>\n",
       "      <td>41.31</td>\n",
       "      <td>3</td>\n",
       "      <td>0</td>\n",
       "      <td>2</td>\n",
       "      <td>0</td>\n",
       "      <td>3</td>\n",
       "      <td>2</td>\n",
       "      <td>3</td>\n",
       "      <td>2</td>\n",
       "    </tr>\n",
       "    <tr>\n",
       "      <th>1863</th>\n",
       "      <td>2019-12-16</td>\n",
       "      <td>11</td>\n",
       "      <td>294</td>\n",
       "      <td>224</td>\n",
       "      <td>0.59</td>\n",
       "      <td>1.99</td>\n",
       "      <td>16.54</td>\n",
       "      <td>0.65</td>\n",
       "      <td>1.95</td>\n",
       "      <td>18.25</td>\n",
       "      <td>1</td>\n",
       "      <td>3</td>\n",
       "      <td>1</td>\n",
       "      <td>2</td>\n",
       "      <td>-2</td>\n",
       "      <td>-1</td>\n",
       "      <td>4</td>\n",
       "      <td>3</td>\n",
       "    </tr>\n",
       "  </tbody>\n",
       "</table>\n",
       "</div>"
      ],
      "text/plain": [
       "           Date  league_x  new_home  new_away  off_x  def_x  spi_x  off_y  \\\n",
       "1101 2019-12-16        16       148       160   1.49   1.01  57.04   0.98   \n",
       "1153 2019-12-16        16       292        85   1.74   1.17  58.62   0.98   \n",
       "9    2019-12-16        12       258       273   1.25   1.28  44.97   1.68   \n",
       "122  2019-12-16        12       106       288   1.93   0.58  76.55   1.18   \n",
       "1863 2019-12-16        11       294       224   0.59   1.99  16.54   0.65   \n",
       "\n",
       "      def_y  spi_y  FTHG  FTAG  HTHG  HTAG  DIF_F  DIF_H  FTG  HTG  \n",
       "1101   1.32  36.97     1     1     1     0      0      1    2    1  \n",
       "1153   1.41  35.11     1     2     1     0     -1      1    3    1  \n",
       "9      0.93  63.10     0     4     0     1     -4     -1    4    1  \n",
       "122    1.36  41.31     3     0     2     0      3      2    3    2  \n",
       "1863   1.95  18.25     1     3     1     2     -2     -1    4    3  "
      ]
     },
     "execution_count": 313,
     "metadata": {},
     "output_type": "execute_result"
    }
   ],
   "source": [
    "first.sort_values(by=['Date','league_x'],ascending=False).head()"
   ]
  },
  {
   "cell_type": "code",
   "execution_count": 314,
   "metadata": {
    "hidden": true
   },
   "outputs": [
    {
     "data": {
      "text/html": [
       "<div>\n",
       "<style scoped>\n",
       "    .dataframe tbody tr th:only-of-type {\n",
       "        vertical-align: middle;\n",
       "    }\n",
       "\n",
       "    .dataframe tbody tr th {\n",
       "        vertical-align: top;\n",
       "    }\n",
       "\n",
       "    .dataframe thead th {\n",
       "        text-align: right;\n",
       "    }\n",
       "</style>\n",
       "<table border=\"1\" class=\"dataframe\">\n",
       "  <thead>\n",
       "    <tr style=\"text-align: right;\">\n",
       "      <th></th>\n",
       "      <th>Date</th>\n",
       "      <th>league_x</th>\n",
       "      <th>new_home</th>\n",
       "      <th>new_away</th>\n",
       "      <th>off_x</th>\n",
       "      <th>def_x</th>\n",
       "      <th>spi_x</th>\n",
       "      <th>off_y</th>\n",
       "      <th>def_y</th>\n",
       "      <th>spi_y</th>\n",
       "      <th>FTHG</th>\n",
       "      <th>FTAG</th>\n",
       "      <th>HTHG</th>\n",
       "      <th>HTAG</th>\n",
       "      <th>DIF_F</th>\n",
       "      <th>DIF_H</th>\n",
       "      <th>FTG</th>\n",
       "      <th>HTG</th>\n",
       "    </tr>\n",
       "  </thead>\n",
       "  <tbody>\n",
       "    <tr>\n",
       "      <th>649</th>\n",
       "      <td>2019-08-31</td>\n",
       "      <td>8</td>\n",
       "      <td>40</td>\n",
       "      <td>286</td>\n",
       "      <td>2.33</td>\n",
       "      <td>0.61</td>\n",
       "      <td>81.38</td>\n",
       "      <td>2.20</td>\n",
       "      <td>0.99</td>\n",
       "      <td>71.35</td>\n",
       "      <td>0</td>\n",
       "      <td>0</td>\n",
       "      <td>0</td>\n",
       "      <td>0</td>\n",
       "      <td>0</td>\n",
       "      <td>0</td>\n",
       "      <td>0</td>\n",
       "      <td>0</td>\n",
       "    </tr>\n",
       "    <tr>\n",
       "      <th>656</th>\n",
       "      <td>2019-09-21</td>\n",
       "      <td>8</td>\n",
       "      <td>40</td>\n",
       "      <td>2</td>\n",
       "      <td>2.33</td>\n",
       "      <td>0.61</td>\n",
       "      <td>81.38</td>\n",
       "      <td>1.71</td>\n",
       "      <td>0.94</td>\n",
       "      <td>63.54</td>\n",
       "      <td>2</td>\n",
       "      <td>0</td>\n",
       "      <td>2</td>\n",
       "      <td>0</td>\n",
       "      <td>2</td>\n",
       "      <td>2</td>\n",
       "      <td>2</td>\n",
       "      <td>2</td>\n",
       "    </tr>\n",
       "    <tr>\n",
       "      <th>670</th>\n",
       "      <td>2019-11-30</td>\n",
       "      <td>8</td>\n",
       "      <td>41</td>\n",
       "      <td>40</td>\n",
       "      <td>3.39</td>\n",
       "      <td>0.42</td>\n",
       "      <td>93.51</td>\n",
       "      <td>2.33</td>\n",
       "      <td>0.61</td>\n",
       "      <td>81.38</td>\n",
       "      <td>1</td>\n",
       "      <td>2</td>\n",
       "      <td>1</td>\n",
       "      <td>2</td>\n",
       "      <td>-1</td>\n",
       "      <td>-1</td>\n",
       "      <td>3</td>\n",
       "      <td>3</td>\n",
       "    </tr>\n",
       "    <tr>\n",
       "      <th>671</th>\n",
       "      <td>2019-09-14</td>\n",
       "      <td>8</td>\n",
       "      <td>53</td>\n",
       "      <td>40</td>\n",
       "      <td>2.52</td>\n",
       "      <td>0.72</td>\n",
       "      <td>81.61</td>\n",
       "      <td>2.33</td>\n",
       "      <td>0.61</td>\n",
       "      <td>81.38</td>\n",
       "      <td>4</td>\n",
       "      <td>0</td>\n",
       "      <td>1</td>\n",
       "      <td>0</td>\n",
       "      <td>4</td>\n",
       "      <td>1</td>\n",
       "      <td>4</td>\n",
       "      <td>1</td>\n",
       "    </tr>\n",
       "    <tr>\n",
       "      <th>672</th>\n",
       "      <td>2019-11-10</td>\n",
       "      <td>8</td>\n",
       "      <td>305</td>\n",
       "      <td>40</td>\n",
       "      <td>1.85</td>\n",
       "      <td>0.69</td>\n",
       "      <td>72.38</td>\n",
       "      <td>2.33</td>\n",
       "      <td>0.61</td>\n",
       "      <td>81.38</td>\n",
       "      <td>0</td>\n",
       "      <td>2</td>\n",
       "      <td>0</td>\n",
       "      <td>1</td>\n",
       "      <td>-2</td>\n",
       "      <td>-1</td>\n",
       "      <td>2</td>\n",
       "      <td>1</td>\n",
       "    </tr>\n",
       "  </tbody>\n",
       "</table>\n",
       "</div>"
      ],
      "text/plain": [
       "          Date  league_x  new_home  new_away  off_x  def_x  spi_x  off_y  \\\n",
       "649 2019-08-31         8        40       286   2.33   0.61  81.38   2.20   \n",
       "656 2019-09-21         8        40         2   2.33   0.61  81.38   1.71   \n",
       "670 2019-11-30         8        41        40   3.39   0.42  93.51   2.33   \n",
       "671 2019-09-14         8        53        40   2.52   0.72  81.61   2.33   \n",
       "672 2019-11-10         8       305        40   1.85   0.69  72.38   2.33   \n",
       "\n",
       "     def_y  spi_y  FTHG  FTAG  HTHG  HTAG  DIF_F  DIF_H  FTG  HTG  \n",
       "649   0.99  71.35     0     0     0     0      0      0    0    0  \n",
       "656   0.94  63.54     2     0     2     0      2      2    2    2  \n",
       "670   0.61  81.38     1     2     1     2     -1     -1    3    3  \n",
       "671   0.61  81.38     4     0     1     0      4      1    4    1  \n",
       "672   0.61  81.38     0     2     0     1     -2     -1    2    1  "
      ]
     },
     "execution_count": 314,
     "metadata": {},
     "output_type": "execute_result"
    }
   ],
   "source": [
    "first[(first['new_home']==40) | (first['new_away']==40)].head()"
   ]
  },
  {
   "cell_type": "code",
   "execution_count": 315,
   "metadata": {
    "hidden": true
   },
   "outputs": [
    {
     "name": "stderr",
     "output_type": "stream",
     "text": [
      "/usr/local/lib/python3.7/site-packages/ipykernel_launcher.py:2: SettingWithCopyWarning: \n",
      "A value is trying to be set on a copy of a slice from a DataFrame.\n",
      "Try using .loc[row_indexer,col_indexer] = value instead\n",
      "\n",
      "See the caveats in the documentation: http://pandas.pydata.org/pandas-docs/stable/user_guide/indexing.html#returning-a-view-versus-a-copy\n",
      "  \n"
     ]
    }
   ],
   "source": [
    "first['1X2']=[1 if first['DIF_F'][i]>0 else -1 if first['DIF_F'][i]<0 else 0\\\n",
    "              for i in range(len(first['DIF_F'])) ]"
   ]
  },
  {
   "cell_type": "code",
   "execution_count": 317,
   "metadata": {
    "hidden": true
   },
   "outputs": [],
   "source": [
    "first['FT_1_5'] = [1 if i>1 else 0 for i in first['FTG']]\n",
    "first['FT_2_5'] = [1 if i>2 else 0 for i in first['FTG']]\n",
    "first['FTH_1_5'] = [1 if i>1 else 0 for i in first['FTHG']]\n",
    "first['FTH_2_5'] = [1 if i>2 else 0 for i in first['FTHG']]\n",
    "first['FTA_1_5'] = [1 if i>1 else 0 for i in first['FTAG']]\n",
    "first['FTA_2_5'] = [1 if i>2 else 0 for i in first['FTAG']]\n",
    "first['HT_0_5'] = [1 if i>0 else 0 for i in first['HTG']]\n",
    "first['HT_1_5'] = [1 if i>1 else 0 for i in first['HTG']]\n",
    "first['HT_2_5'] = [1 if i>2 else 0 for i in first['HTG']]\n",
    "first['BTTS'] = [1 if (first['FTHG'][i]>0) & (first['FTAG'][i]>0) else 0 for i in range(len(first['FTG']))]\n",
    "first['HAND'] = [1 if (first['DIF_F'][i]>1) else -1 if (first['DIF_F'][i]<-1) else 0 for i in range(len(first['FTG']))]"
   ]
  },
  {
   "cell_type": "code",
   "execution_count": 227,
   "metadata": {
    "cell_style": "split",
    "hidden": true
   },
   "outputs": [
    {
     "name": "stdout",
     "output_type": "stream",
     "text": [
      "1    1939\n",
      "0     604\n",
      "Name: FT_1_5, dtype: int64\n",
      "1    1295\n",
      "0    1248\n",
      "Name: FT_2_5, dtype: int64\n",
      "0    1415\n",
      "1    1128\n",
      "Name: FTH_1_5, dtype: int64\n",
      "0    2059\n",
      "1     484\n",
      "Name: FTH_2_5, dtype: int64\n",
      "1    1367\n",
      "0    1176\n",
      "Name: BTTS, dtype: int64\n"
     ]
    }
   ],
   "source": [
    "print(first['FT_1_5'].value_counts())#/first.shape[0])\n",
    "print(first['FT_2_5'].value_counts())\n",
    "print(first['FTH_1_5'].value_counts())\n",
    "print(first['FTH_2_5'].value_counts())\n",
    "print(first['BTTS'].value_counts())"
   ]
  },
  {
   "cell_type": "code",
   "execution_count": 318,
   "metadata": {
    "cell_style": "split",
    "hidden": true
   },
   "outputs": [
    {
     "name": "stdout",
     "output_type": "stream",
     "text": [
      "0    1869\n",
      "1     905\n",
      "Name: FTA_1_5, dtype: int64\n",
      "0    2444\n",
      "1     330\n",
      "Name: FTA_2_5, dtype: int64\n",
      "1    1955\n",
      "0     819\n",
      "Name: HT_0_5, dtype: int64\n",
      "0    1861\n",
      "1     913\n",
      "Name: HT_1_5, dtype: int64\n",
      "0    2449\n",
      "1     325\n",
      "Name: HT_2_5, dtype: int64\n",
      " 0    1800\n",
      " 1     628\n",
      "-1     346\n",
      "Name: HAND, dtype: int64\n"
     ]
    }
   ],
   "source": [
    "print(first['FTA_1_5'].value_counts())\n",
    "print(first['FTA_2_5'].value_counts())\n",
    "print(first['HT_0_5'].value_counts())\n",
    "print(first['HT_1_5'].value_counts())\n",
    "print(first['HT_2_5'].value_counts())\n",
    "print(first['HAND'].value_counts())"
   ]
  },
  {
   "cell_type": "code",
   "execution_count": null,
   "metadata": {
    "hidden": true
   },
   "outputs": [],
   "source": []
  },
  {
   "cell_type": "code",
   "execution_count": 229,
   "metadata": {
    "cell_style": "split",
    "hidden": true
   },
   "outputs": [
    {
     "name": "stdout",
     "output_type": "stream",
     "text": [
      "1    0.762485\n",
      "0    0.237515\n",
      "Name: FT_1_5, dtype: float64\n",
      "1    0.509241\n",
      "0    0.490759\n",
      "Name: FT_2_5, dtype: float64\n",
      "0    0.556429\n",
      "1    0.443571\n",
      "Name: FTH_1_5, dtype: float64\n",
      "0    0.809674\n",
      "1    0.190326\n",
      "Name: FTH_2_5, dtype: float64\n",
      "1    0.537554\n",
      "0    0.462446\n",
      "Name: BTTS, dtype: float64\n"
     ]
    }
   ],
   "source": [
    "print(first['FT_1_5'].value_counts()/first.shape[0])\n",
    "print(first['FT_2_5'].value_counts()/first.shape[0])\n",
    "print(first['FTH_1_5'].value_counts()/first.shape[0])\n",
    "print(first['FTH_2_5'].value_counts()/first.shape[0])\n",
    "print(first['BTTS'].value_counts()/first.shape[0])"
   ]
  },
  {
   "cell_type": "code",
   "execution_count": 319,
   "metadata": {
    "cell_style": "split",
    "hidden": true
   },
   "outputs": [
    {
     "name": "stdout",
     "output_type": "stream",
     "text": [
      "0    0.673756\n",
      "1    0.326244\n",
      "Name: FTA_1_5, dtype: float64\n",
      "0    0.881038\n",
      "1    0.118962\n",
      "Name: FTA_2_5, dtype: float64\n",
      "1    0.704758\n",
      "0    0.295242\n",
      "Name: HT_0_5, dtype: float64\n",
      "0    0.670872\n",
      "1    0.329128\n",
      "Name: HT_1_5, dtype: float64\n",
      "0    0.882841\n",
      "1    0.117159\n",
      "Name: HT_2_5, dtype: float64\n",
      " 0    0.648882\n",
      " 1    0.226388\n",
      "-1    0.124730\n",
      "Name: HAND, dtype: float64\n"
     ]
    }
   ],
   "source": [
    "print(first['FTA_1_5'].value_counts()/first.shape[0])\n",
    "print(first['FTA_2_5'].value_counts()/first.shape[0])\n",
    "print(first['HT_0_5'].value_counts()/first.shape[0])\n",
    "print(first['HT_1_5'].value_counts()/first.shape[0])\n",
    "print(first['HT_2_5'].value_counts()/first.shape[0])\n",
    "print(first['HAND'].value_counts()/first.shape[0])"
   ]
  },
  {
   "cell_type": "code",
   "execution_count": 320,
   "metadata": {
    "hidden": true
   },
   "outputs": [],
   "source": [
    "# FT_1_5 dataset\n",
    "onefive=first\n",
    "oneee = first[first['FT_1_5']==1]\n",
    "np.random.seed(10)\n",
    "remove_n = 665\n",
    "\n",
    "drop_indices = np.random.choice(oneee.index, remove_n, replace=False)\n",
    "onefive = onefive.drop(drop_indices)"
   ]
  },
  {
   "cell_type": "code",
   "execution_count": 232,
   "metadata": {
    "hidden": true
   },
   "outputs": [
    {
     "data": {
      "text/plain": [
       "1    0.678381\n",
       "0    0.321619\n",
       "Name: FT_1_5, dtype: float64"
      ]
     },
     "execution_count": 232,
     "metadata": {},
     "output_type": "execute_result"
    }
   ],
   "source": [
    "onefive['FT_1_5'].value_counts()/onefive.shape[0]"
   ]
  },
  {
   "cell_type": "code",
   "execution_count": 370,
   "metadata": {
    "hidden": true
   },
   "outputs": [],
   "source": [
    "# FTA_1_5 dataset\n",
    "awayonefive=first\n",
    "a_oneee = first[first['FTA_1_5']==0]\n",
    "np.random.seed(10)\n",
    "remove_n = 400\n",
    "\n",
    "drop_indices = np.random.choice(a_oneee.index, remove_n, replace=False)\n",
    "awayonefive = awayonefive.drop(drop_indices)"
   ]
  },
  {
   "cell_type": "code",
   "execution_count": 373,
   "metadata": {
    "hidden": true
   },
   "outputs": [
    {
     "data": {
      "text/plain": [
       "0    0.696539\n",
       "1    0.429113\n",
       "Name: FTA_1_5, dtype: float64"
      ]
     },
     "execution_count": 373,
     "metadata": {},
     "output_type": "execute_result"
    }
   ],
   "source": [
    "awayonefive['FTA_1_5'].value_counts()/onefive.shape[0]"
   ]
  },
  {
   "cell_type": "markdown",
   "metadata": {
    "heading_collapsed": true
   },
   "source": [
    "# EXPERIENCES"
   ]
  },
  {
   "cell_type": "code",
   "execution_count": 28,
   "metadata": {
    "cell_style": "center",
    "hidden": true
   },
   "outputs": [],
   "source": [
    "#form2=[[test.loc[test['new_home']==test['new_home'][i],'DIF_F'].iloc[j] for j in range(len(test[test['new_home']==i]))] for i in range(len(test['new_home']))]"
   ]
  },
  {
   "cell_type": "code",
   "execution_count": 29,
   "metadata": {
    "cell_style": "center",
    "hidden": true
   },
   "outputs": [
    {
     "ename": "NameError",
     "evalue": "name 'test' is not defined",
     "output_type": "error",
     "traceback": [
      "\u001b[0;31m---------------------------------------------------------------------------\u001b[0m",
      "\u001b[0;31mNameError\u001b[0m                                 Traceback (most recent call last)",
      "\u001b[0;32m<ipython-input-29-00b9921b04bd>\u001b[0m in \u001b[0;36m<module>\u001b[0;34m\u001b[0m\n\u001b[0;32m----> 1\u001b[0;31m \u001b[0;32mfor\u001b[0m \u001b[0mi\u001b[0m \u001b[0;32min\u001b[0m \u001b[0mrange\u001b[0m\u001b[0;34m(\u001b[0m\u001b[0mlen\u001b[0m\u001b[0;34m(\u001b[0m\u001b[0mtest\u001b[0m\u001b[0;34m[\u001b[0m\u001b[0;34m'new_home'\u001b[0m\u001b[0;34m]\u001b[0m\u001b[0;34m)\u001b[0m\u001b[0;34m)\u001b[0m\u001b[0;34m:\u001b[0m\u001b[0;34m\u001b[0m\u001b[0;34m\u001b[0m\u001b[0m\n\u001b[0m\u001b[1;32m      2\u001b[0m     \u001b[0mprint\u001b[0m\u001b[0;34m(\u001b[0m\u001b[0mi\u001b[0m\u001b[0;34m)\u001b[0m\u001b[0;34m\u001b[0m\u001b[0;34m\u001b[0m\u001b[0m\n\u001b[1;32m      3\u001b[0m     \u001b[0;32mfor\u001b[0m \u001b[0mj\u001b[0m \u001b[0;32min\u001b[0m \u001b[0mrange\u001b[0m\u001b[0;34m(\u001b[0m\u001b[0mlen\u001b[0m\u001b[0;34m(\u001b[0m\u001b[0mtest\u001b[0m\u001b[0;34m[\u001b[0m\u001b[0mtest\u001b[0m\u001b[0;34m[\u001b[0m\u001b[0;34m'new_home'\u001b[0m\u001b[0;34m]\u001b[0m\u001b[0;34m==\u001b[0m\u001b[0mi\u001b[0m\u001b[0;34m]\u001b[0m\u001b[0;34m)\u001b[0m\u001b[0;34m)\u001b[0m\u001b[0;34m:\u001b[0m\u001b[0;34m\u001b[0m\u001b[0;34m\u001b[0m\u001b[0m\n\u001b[1;32m      4\u001b[0m         \u001b[0mform\u001b[0m\u001b[0;34m.\u001b[0m\u001b[0mappend\u001b[0m\u001b[0;34m(\u001b[0m\u001b[0mtest\u001b[0m\u001b[0;34m[\u001b[0m\u001b[0;34m'DIF_F'\u001b[0m\u001b[0;34m]\u001b[0m\u001b[0;34m[\u001b[0m\u001b[0mj\u001b[0m\u001b[0;34m]\u001b[0m\u001b[0;34m)\u001b[0m\u001b[0;34m\u001b[0m\u001b[0;34m\u001b[0m\u001b[0m\n",
      "\u001b[0;31mNameError\u001b[0m: name 'test' is not defined"
     ]
    }
   ],
   "source": [
    "for i in range(len(test['new_home'])):\n",
    "    print(i)\n",
    "    for j in range(len(test[test['new_home']==i])):\n",
    "        form.append(test['DIF_F'][j])"
   ]
  },
  {
   "cell_type": "code",
   "execution_count": 31,
   "metadata": {
    "hidden": true
   },
   "outputs": [],
   "source": [
    "bb = aa"
   ]
  },
  {
   "cell_type": "code",
   "execution_count": 32,
   "metadata": {
    "hidden": true
   },
   "outputs": [
    {
     "data": {
      "text/plain": [
       "Index(['Date', 'HomeTeam', 'AwayTeam', 'FTHG', 'FTAG', 'HTHG', 'HTAG', 'DIF_F',\n",
       "       'DIF_H', 'FTG', 'HTG', 'FTY', 'FTR', 'league_x', 'off_x', 'def_x',\n",
       "       'spi_x', 'name', 'league_y', 'off_y', 'def_y', 'spi_y', 'new_home',\n",
       "       'new_away'],\n",
       "      dtype='object')"
      ]
     },
     "execution_count": 32,
     "metadata": {},
     "output_type": "execute_result"
    }
   ],
   "source": [
    "bb.columns"
   ]
  },
  {
   "cell_type": "code",
   "execution_count": 33,
   "metadata": {
    "hidden": true
   },
   "outputs": [],
   "source": [
    "bb.drop(columns=['HTHG','HTAG','DIF_F','DIF_H','FTY', 'FTR', 'league_x', 'off_x', 'def_x',\n",
    "       'spi_x', 'name', 'league_y', 'off_y', 'def_y', 'spi_y', 'new_home',\n",
    "       'new_away'],inplace=True)"
   ]
  },
  {
   "cell_type": "code",
   "execution_count": 34,
   "metadata": {
    "hidden": true
   },
   "outputs": [],
   "source": [
    "bb = bb.sort_values(by=['Date'],ascending=False)"
   ]
  },
  {
   "cell_type": "code",
   "execution_count": 35,
   "metadata": {
    "hidden": true
   },
   "outputs": [
    {
     "data": {
      "text/html": [
       "<div>\n",
       "<style scoped>\n",
       "    .dataframe tbody tr th:only-of-type {\n",
       "        vertical-align: middle;\n",
       "    }\n",
       "\n",
       "    .dataframe tbody tr th {\n",
       "        vertical-align: top;\n",
       "    }\n",
       "\n",
       "    .dataframe thead th {\n",
       "        text-align: right;\n",
       "    }\n",
       "</style>\n",
       "<table border=\"1\" class=\"dataframe\">\n",
       "  <thead>\n",
       "    <tr style=\"text-align: right;\">\n",
       "      <th></th>\n",
       "      <th>Date</th>\n",
       "      <th>HomeTeam</th>\n",
       "      <th>AwayTeam</th>\n",
       "      <th>FTHG</th>\n",
       "      <th>FTAG</th>\n",
       "      <th>FTG</th>\n",
       "      <th>HTG</th>\n",
       "    </tr>\n",
       "  </thead>\n",
       "  <tbody>\n",
       "    <tr>\n",
       "      <th>175</th>\n",
       "      <td>2019-12-15</td>\n",
       "      <td>Arsenal</td>\n",
       "      <td>Manchester City</td>\n",
       "      <td>0</td>\n",
       "      <td>3</td>\n",
       "      <td>3</td>\n",
       "      <td>3</td>\n",
       "    </tr>\n",
       "    <tr>\n",
       "      <th>136</th>\n",
       "      <td>2019-12-09</td>\n",
       "      <td>West Ham United</td>\n",
       "      <td>Arsenal</td>\n",
       "      <td>1</td>\n",
       "      <td>3</td>\n",
       "      <td>4</td>\n",
       "      <td>1</td>\n",
       "    </tr>\n",
       "    <tr>\n",
       "      <th>183</th>\n",
       "      <td>2019-12-05</td>\n",
       "      <td>Arsenal</td>\n",
       "      <td>Brighton and Hove Albion</td>\n",
       "      <td>1</td>\n",
       "      <td>2</td>\n",
       "      <td>3</td>\n",
       "      <td>1</td>\n",
       "    </tr>\n",
       "    <tr>\n",
       "      <th>141</th>\n",
       "      <td>2019-12-01</td>\n",
       "      <td>Norwich City</td>\n",
       "      <td>Arsenal</td>\n",
       "      <td>2</td>\n",
       "      <td>2</td>\n",
       "      <td>4</td>\n",
       "      <td>3</td>\n",
       "    </tr>\n",
       "    <tr>\n",
       "      <th>257</th>\n",
       "      <td>2019-11-23</td>\n",
       "      <td>Arsenal</td>\n",
       "      <td>Southampton</td>\n",
       "      <td>2</td>\n",
       "      <td>2</td>\n",
       "      <td>4</td>\n",
       "      <td>2</td>\n",
       "    </tr>\n",
       "  </tbody>\n",
       "</table>\n",
       "</div>"
      ],
      "text/plain": [
       "          Date         HomeTeam                  AwayTeam  FTHG  FTAG  FTG  \\\n",
       "175 2019-12-15          Arsenal           Manchester City     0     3    3   \n",
       "136 2019-12-09  West Ham United                   Arsenal     1     3    4   \n",
       "183 2019-12-05          Arsenal  Brighton and Hove Albion     1     2    3   \n",
       "141 2019-12-01     Norwich City                   Arsenal     2     2    4   \n",
       "257 2019-11-23          Arsenal               Southampton     2     2    4   \n",
       "\n",
       "     HTG  \n",
       "175    3  \n",
       "136    1  \n",
       "183    1  \n",
       "141    3  \n",
       "257    2  "
      ]
     },
     "execution_count": 35,
     "metadata": {},
     "output_type": "execute_result"
    }
   ],
   "source": [
    "arsenal = bb[(bb.HomeTeam == 'Arsenal') | (bb.AwayTeam == 'Arsenal')]\n",
    "arsenal.head()"
   ]
  },
  {
   "cell_type": "code",
   "execution_count": 48,
   "metadata": {
    "hidden": true
   },
   "outputs": [],
   "source": [
    "dff = pd.DataFrame(columns=['Date','HomeTeam','AwayTeam','FTHG','FTAG','FTG','HTG'])\n",
    "r=0\n",
    "for i in set(bb.HomeTeam):\n",
    "\n",
    "    team_h = bb[(bb.HomeTeam==i)].sort_values(by='Date',ascending=False)\n",
    "    #team_a = bb[(bb.HomeTeam==i)]\n",
    "    team_h['one_h'] = [list(team_h['FTG'])[j] for j in range(len(team_h['HomeTeam']))]\n",
    "    #team_a['one_a'] = [list(team_a['FTG'])[j] for j in range(len(team_a['HomeTeam']))]\n",
    "\n",
    "    #dff = dff.append(team_h)\n",
    "    #dff = dff.append(team_a)\n",
    "    #dff.drop(columns=['one'],inplace=True)\n",
    "    #dff = dff.drop_duplicates()\n",
    "    \n",
    "   # trth = [list(team_h['one_h'])[i] for i in range(len(team_h['one_h'])) if i>0]\n",
    "   # trta = [list(team_a['one_a'])[i] for i in range(len(team_a['one_a'])) if i>0]\n",
    "    #trt2 = [list(arsenal['one'])[i] for i in range(len(arsenal['one'])) if i>1]\n",
    "    #trt3 = [list(arsenal['one'])[i] for i in range(len(arsenal['one'])) if i>2]\n",
    "   # trth.append(0)\n",
    "   # trta.append(0)\n",
    "    \n",
    "  #  team_h['ONE_H'] = trth\n",
    "   # team_a['ONE_A'] = trta\n",
    "    dff = dff.append(team_h)\n",
    "  #  dff = dff.append(team_a)\n",
    "    #r+=1\n",
    "    #dff = dff.append(team_a)"
   ]
  },
  {
   "cell_type": "code",
   "execution_count": 49,
   "metadata": {
    "hidden": true
   },
   "outputs": [
    {
     "data": {
      "text/html": [
       "<div>\n",
       "<style scoped>\n",
       "    .dataframe tbody tr th:only-of-type {\n",
       "        vertical-align: middle;\n",
       "    }\n",
       "\n",
       "    .dataframe tbody tr th {\n",
       "        vertical-align: top;\n",
       "    }\n",
       "\n",
       "    .dataframe thead th {\n",
       "        text-align: right;\n",
       "    }\n",
       "</style>\n",
       "<table border=\"1\" class=\"dataframe\">\n",
       "  <thead>\n",
       "    <tr style=\"text-align: right;\">\n",
       "      <th></th>\n",
       "      <th>AwayTeam</th>\n",
       "      <th>Date</th>\n",
       "      <th>FTAG</th>\n",
       "      <th>FTG</th>\n",
       "      <th>FTHG</th>\n",
       "      <th>HTG</th>\n",
       "      <th>HomeTeam</th>\n",
       "      <th>one_h</th>\n",
       "    </tr>\n",
       "  </thead>\n",
       "  <tbody>\n",
       "    <tr>\n",
       "      <th>846</th>\n",
       "      <td>St Etienne</td>\n",
       "      <td>2019-12-08</td>\n",
       "      <td>1</td>\n",
       "      <td>4</td>\n",
       "      <td>3</td>\n",
       "      <td>1</td>\n",
       "      <td>Reims</td>\n",
       "      <td>4.0</td>\n",
       "    </tr>\n",
       "    <tr>\n",
       "      <th>882</th>\n",
       "      <td>Bordeaux</td>\n",
       "      <td>2019-11-30</td>\n",
       "      <td>1</td>\n",
       "      <td>2</td>\n",
       "      <td>1</td>\n",
       "      <td>1</td>\n",
       "      <td>Reims</td>\n",
       "      <td>2.0</td>\n",
       "    </tr>\n",
       "    <tr>\n",
       "      <th>934</th>\n",
       "      <td>Angers</td>\n",
       "      <td>2019-11-09</td>\n",
       "      <td>0</td>\n",
       "      <td>0</td>\n",
       "      <td>0</td>\n",
       "      <td>0</td>\n",
       "      <td>Reims</td>\n",
       "      <td>0.0</td>\n",
       "    </tr>\n",
       "    <tr>\n",
       "      <th>776</th>\n",
       "      <td>Nimes</td>\n",
       "      <td>2019-10-26</td>\n",
       "      <td>0</td>\n",
       "      <td>0</td>\n",
       "      <td>0</td>\n",
       "      <td>0</td>\n",
       "      <td>Reims</td>\n",
       "      <td>0.0</td>\n",
       "    </tr>\n",
       "    <tr>\n",
       "      <th>856</th>\n",
       "      <td>Montpellier</td>\n",
       "      <td>2019-10-19</td>\n",
       "      <td>0</td>\n",
       "      <td>1</td>\n",
       "      <td>1</td>\n",
       "      <td>1</td>\n",
       "      <td>Reims</td>\n",
       "      <td>1.0</td>\n",
       "    </tr>\n",
       "    <tr>\n",
       "      <th>...</th>\n",
       "      <td>...</td>\n",
       "      <td>...</td>\n",
       "      <td>...</td>\n",
       "      <td>...</td>\n",
       "      <td>...</td>\n",
       "      <td>...</td>\n",
       "      <td>...</td>\n",
       "      <td>...</td>\n",
       "    </tr>\n",
       "    <tr>\n",
       "      <th>1773</th>\n",
       "      <td>Cosenza</td>\n",
       "      <td>2019-10-29</td>\n",
       "      <td>0</td>\n",
       "      <td>1</td>\n",
       "      <td>1</td>\n",
       "      <td>0</td>\n",
       "      <td>Virtus Entella</td>\n",
       "      <td>1.0</td>\n",
       "    </tr>\n",
       "    <tr>\n",
       "      <th>1844</th>\n",
       "      <td>Trapani</td>\n",
       "      <td>2019-10-19</td>\n",
       "      <td>1</td>\n",
       "      <td>2</td>\n",
       "      <td>1</td>\n",
       "      <td>1</td>\n",
       "      <td>Virtus Entella</td>\n",
       "      <td>2.0</td>\n",
       "    </tr>\n",
       "    <tr>\n",
       "      <th>1788</th>\n",
       "      <td>F.B.C Unione Venezia</td>\n",
       "      <td>2019-09-24</td>\n",
       "      <td>2</td>\n",
       "      <td>2</td>\n",
       "      <td>0</td>\n",
       "      <td>1</td>\n",
       "      <td>Virtus Entella</td>\n",
       "      <td>2.0</td>\n",
       "    </tr>\n",
       "    <tr>\n",
       "      <th>1836</th>\n",
       "      <td>Frosinone</td>\n",
       "      <td>2019-09-14</td>\n",
       "      <td>0</td>\n",
       "      <td>1</td>\n",
       "      <td>1</td>\n",
       "      <td>0</td>\n",
       "      <td>Virtus Entella</td>\n",
       "      <td>1.0</td>\n",
       "    </tr>\n",
       "    <tr>\n",
       "      <th>1853</th>\n",
       "      <td>Livorno</td>\n",
       "      <td>2019-08-24</td>\n",
       "      <td>0</td>\n",
       "      <td>1</td>\n",
       "      <td>1</td>\n",
       "      <td>1</td>\n",
       "      <td>Virtus Entella</td>\n",
       "      <td>1.0</td>\n",
       "    </tr>\n",
       "  </tbody>\n",
       "</table>\n",
       "<p>2199 rows × 8 columns</p>\n",
       "</div>"
      ],
      "text/plain": [
       "                  AwayTeam       Date FTAG FTG FTHG HTG        HomeTeam  one_h\n",
       "846             St Etienne 2019-12-08    1   4    3   1           Reims    4.0\n",
       "882               Bordeaux 2019-11-30    1   2    1   1           Reims    2.0\n",
       "934                 Angers 2019-11-09    0   0    0   0           Reims    0.0\n",
       "776                  Nimes 2019-10-26    0   0    0   0           Reims    0.0\n",
       "856            Montpellier 2019-10-19    0   1    1   1           Reims    1.0\n",
       "...                    ...        ...  ...  ..  ...  ..             ...    ...\n",
       "1773               Cosenza 2019-10-29    0   1    1   0  Virtus Entella    1.0\n",
       "1844               Trapani 2019-10-19    1   2    1   1  Virtus Entella    2.0\n",
       "1788  F.B.C Unione Venezia 2019-09-24    2   2    0   1  Virtus Entella    2.0\n",
       "1836             Frosinone 2019-09-14    0   1    1   0  Virtus Entella    1.0\n",
       "1853               Livorno 2019-08-24    0   1    1   1  Virtus Entella    1.0\n",
       "\n",
       "[2199 rows x 8 columns]"
      ]
     },
     "execution_count": 49,
     "metadata": {},
     "output_type": "execute_result"
    }
   ],
   "source": [
    "dff"
   ]
  },
  {
   "cell_type": "code",
   "execution_count": 50,
   "metadata": {
    "hidden": true
   },
   "outputs": [],
   "source": [
    "dff2=pd.DataFrame(columns=['Date','HomeTeam','AwayTeam','FTHG','FTAG','FTG','HTG'])\n",
    "\n",
    "for i in set(bb.AwayTeam):\n",
    "\n",
    "    team_a = bb[(bb.AwayTeam==i)].sort_values(by='Date',ascending=False)\n",
    "    team_a['one_a'] = [list(team_a['FTG'])[j] for j in range(len(team_a['HomeTeam']))]\n",
    "    dff2 = dff2.append(team_a)"
   ]
  },
  {
   "cell_type": "code",
   "execution_count": 57,
   "metadata": {
    "cell_style": "center",
    "hidden": true
   },
   "outputs": [
    {
     "data": {
      "text/html": [
       "<div>\n",
       "<style scoped>\n",
       "    .dataframe tbody tr th:only-of-type {\n",
       "        vertical-align: middle;\n",
       "    }\n",
       "\n",
       "    .dataframe tbody tr th {\n",
       "        vertical-align: top;\n",
       "    }\n",
       "\n",
       "    .dataframe thead th {\n",
       "        text-align: right;\n",
       "    }\n",
       "</style>\n",
       "<table border=\"1\" class=\"dataframe\">\n",
       "  <thead>\n",
       "    <tr style=\"text-align: right;\">\n",
       "      <th></th>\n",
       "      <th>AwayTeam</th>\n",
       "      <th>Date</th>\n",
       "      <th>FTAG</th>\n",
       "      <th>FTG</th>\n",
       "      <th>FTHG</th>\n",
       "      <th>HTG</th>\n",
       "      <th>HomeTeam</th>\n",
       "      <th>one_h</th>\n",
       "    </tr>\n",
       "  </thead>\n",
       "  <tbody>\n",
       "    <tr>\n",
       "      <th>122</th>\n",
       "      <td>Tondela</td>\n",
       "      <td>2019-12-16</td>\n",
       "      <td>0</td>\n",
       "      <td>3</td>\n",
       "      <td>3</td>\n",
       "      <td>2</td>\n",
       "      <td>FC Porto</td>\n",
       "      <td>3.0</td>\n",
       "    </tr>\n",
       "    <tr>\n",
       "      <th>21</th>\n",
       "      <td>FC Porto</td>\n",
       "      <td>2019-12-08</td>\n",
       "      <td>1</td>\n",
       "      <td>2</td>\n",
       "      <td>1</td>\n",
       "      <td>2</td>\n",
       "      <td>Belenenses</td>\n",
       "      <td>2.0</td>\n",
       "    </tr>\n",
       "    <tr>\n",
       "      <th>108</th>\n",
       "      <td>Pacos Ferreira</td>\n",
       "      <td>2019-12-02</td>\n",
       "      <td>0</td>\n",
       "      <td>2</td>\n",
       "      <td>2</td>\n",
       "      <td>1</td>\n",
       "      <td>FC Porto</td>\n",
       "      <td>2.0</td>\n",
       "    </tr>\n",
       "    <tr>\n",
       "      <th>19</th>\n",
       "      <td>FC Porto</td>\n",
       "      <td>2019-11-10</td>\n",
       "      <td>1</td>\n",
       "      <td>1</td>\n",
       "      <td>0</td>\n",
       "      <td>1</td>\n",
       "      <td>Boavista</td>\n",
       "      <td>1.0</td>\n",
       "    </tr>\n",
       "    <tr>\n",
       "      <th>114</th>\n",
       "      <td>Desportivo Aves</td>\n",
       "      <td>2019-11-03</td>\n",
       "      <td>0</td>\n",
       "      <td>1</td>\n",
       "      <td>1</td>\n",
       "      <td>1</td>\n",
       "      <td>FC Porto</td>\n",
       "      <td>1.0</td>\n",
       "    </tr>\n",
       "    <tr>\n",
       "      <th>20</th>\n",
       "      <td>FC Porto</td>\n",
       "      <td>2019-10-30</td>\n",
       "      <td>1</td>\n",
       "      <td>2</td>\n",
       "      <td>1</td>\n",
       "      <td>1</td>\n",
       "      <td>Maritimo</td>\n",
       "      <td>2.0</td>\n",
       "    </tr>\n",
       "    <tr>\n",
       "      <th>40</th>\n",
       "      <td>Famalicao</td>\n",
       "      <td>2019-10-27</td>\n",
       "      <td>0</td>\n",
       "      <td>3</td>\n",
       "      <td>3</td>\n",
       "      <td>1</td>\n",
       "      <td>FC Porto</td>\n",
       "      <td>3.0</td>\n",
       "    </tr>\n",
       "    <tr>\n",
       "      <th>22</th>\n",
       "      <td>FC Porto</td>\n",
       "      <td>2019-09-29</td>\n",
       "      <td>1</td>\n",
       "      <td>1</td>\n",
       "      <td>0</td>\n",
       "      <td>1</td>\n",
       "      <td>Rio Ave</td>\n",
       "      <td>1.0</td>\n",
       "    </tr>\n",
       "    <tr>\n",
       "      <th>33</th>\n",
       "      <td>Santa Clara</td>\n",
       "      <td>2019-09-22</td>\n",
       "      <td>0</td>\n",
       "      <td>2</td>\n",
       "      <td>2</td>\n",
       "      <td>2</td>\n",
       "      <td>FC Porto</td>\n",
       "      <td>2.0</td>\n",
       "    </tr>\n",
       "    <tr>\n",
       "      <th>16</th>\n",
       "      <td>FC Porto</td>\n",
       "      <td>2019-09-15</td>\n",
       "      <td>3</td>\n",
       "      <td>5</td>\n",
       "      <td>2</td>\n",
       "      <td>2</td>\n",
       "      <td>Portimonense</td>\n",
       "      <td>5.0</td>\n",
       "    </tr>\n",
       "    <tr>\n",
       "      <th>99</th>\n",
       "      <td>Guimaraes</td>\n",
       "      <td>2019-09-01</td>\n",
       "      <td>0</td>\n",
       "      <td>3</td>\n",
       "      <td>3</td>\n",
       "      <td>1</td>\n",
       "      <td>FC Porto</td>\n",
       "      <td>3.0</td>\n",
       "    </tr>\n",
       "    <tr>\n",
       "      <th>18</th>\n",
       "      <td>FC Porto</td>\n",
       "      <td>2019-08-24</td>\n",
       "      <td>2</td>\n",
       "      <td>2</td>\n",
       "      <td>0</td>\n",
       "      <td>1</td>\n",
       "      <td>Benfica</td>\n",
       "      <td>2.0</td>\n",
       "    </tr>\n",
       "    <tr>\n",
       "      <th>67</th>\n",
       "      <td>Vitoria Setubal</td>\n",
       "      <td>2019-08-17</td>\n",
       "      <td>0</td>\n",
       "      <td>4</td>\n",
       "      <td>4</td>\n",
       "      <td>2</td>\n",
       "      <td>FC Porto</td>\n",
       "      <td>4.0</td>\n",
       "    </tr>\n",
       "    <tr>\n",
       "      <th>17</th>\n",
       "      <td>FC Porto</td>\n",
       "      <td>2019-08-10</td>\n",
       "      <td>1</td>\n",
       "      <td>3</td>\n",
       "      <td>2</td>\n",
       "      <td>0</td>\n",
       "      <td>Gil Vicente</td>\n",
       "      <td>3.0</td>\n",
       "    </tr>\n",
       "  </tbody>\n",
       "</table>\n",
       "</div>"
      ],
      "text/plain": [
       "            AwayTeam       Date FTAG FTG FTHG HTG      HomeTeam  one_h\n",
       "122          Tondela 2019-12-16    0   3    3   2      FC Porto    3.0\n",
       "21          FC Porto 2019-12-08    1   2    1   2    Belenenses    2.0\n",
       "108   Pacos Ferreira 2019-12-02    0   2    2   1      FC Porto    2.0\n",
       "19          FC Porto 2019-11-10    1   1    0   1      Boavista    1.0\n",
       "114  Desportivo Aves 2019-11-03    0   1    1   1      FC Porto    1.0\n",
       "20          FC Porto 2019-10-30    1   2    1   1      Maritimo    2.0\n",
       "40         Famalicao 2019-10-27    0   3    3   1      FC Porto    3.0\n",
       "22          FC Porto 2019-09-29    1   1    0   1       Rio Ave    1.0\n",
       "33       Santa Clara 2019-09-22    0   2    2   2      FC Porto    2.0\n",
       "16          FC Porto 2019-09-15    3   5    2   2  Portimonense    5.0\n",
       "99         Guimaraes 2019-09-01    0   3    3   1      FC Porto    3.0\n",
       "18          FC Porto 2019-08-24    2   2    0   1       Benfica    2.0\n",
       "67   Vitoria Setubal 2019-08-17    0   4    4   2      FC Porto    4.0\n",
       "17          FC Porto 2019-08-10    1   3    2   0   Gil Vicente    3.0"
      ]
     },
     "execution_count": 57,
     "metadata": {},
     "output_type": "execute_result"
    }
   ],
   "source": [
    "dff[(dff['HomeTeam']=='FC Porto') | (dff['AwayTeam']=='FC Porto')]\\\n",
    ".sort_values(by='Date',ascending=False)"
   ]
  },
  {
   "cell_type": "code",
   "execution_count": 56,
   "metadata": {
    "hidden": true
   },
   "outputs": [
    {
     "data": {
      "text/html": [
       "<div>\n",
       "<style scoped>\n",
       "    .dataframe tbody tr th:only-of-type {\n",
       "        vertical-align: middle;\n",
       "    }\n",
       "\n",
       "    .dataframe tbody tr th {\n",
       "        vertical-align: top;\n",
       "    }\n",
       "\n",
       "    .dataframe thead th {\n",
       "        text-align: right;\n",
       "    }\n",
       "</style>\n",
       "<table border=\"1\" class=\"dataframe\">\n",
       "  <thead>\n",
       "    <tr style=\"text-align: right;\">\n",
       "      <th></th>\n",
       "      <th>AwayTeam</th>\n",
       "      <th>Date</th>\n",
       "      <th>FTAG</th>\n",
       "      <th>FTG</th>\n",
       "      <th>FTHG</th>\n",
       "      <th>HTG</th>\n",
       "      <th>HomeTeam</th>\n",
       "      <th>one_a</th>\n",
       "    </tr>\n",
       "  </thead>\n",
       "  <tbody>\n",
       "    <tr>\n",
       "      <th>122</th>\n",
       "      <td>Tondela</td>\n",
       "      <td>2019-12-16</td>\n",
       "      <td>0</td>\n",
       "      <td>3</td>\n",
       "      <td>3</td>\n",
       "      <td>2</td>\n",
       "      <td>FC Porto</td>\n",
       "      <td>3.0</td>\n",
       "    </tr>\n",
       "    <tr>\n",
       "      <th>21</th>\n",
       "      <td>FC Porto</td>\n",
       "      <td>2019-12-08</td>\n",
       "      <td>1</td>\n",
       "      <td>2</td>\n",
       "      <td>1</td>\n",
       "      <td>2</td>\n",
       "      <td>Belenenses</td>\n",
       "      <td>2.0</td>\n",
       "    </tr>\n",
       "    <tr>\n",
       "      <th>108</th>\n",
       "      <td>Pacos Ferreira</td>\n",
       "      <td>2019-12-02</td>\n",
       "      <td>0</td>\n",
       "      <td>2</td>\n",
       "      <td>2</td>\n",
       "      <td>1</td>\n",
       "      <td>FC Porto</td>\n",
       "      <td>2.0</td>\n",
       "    </tr>\n",
       "    <tr>\n",
       "      <th>19</th>\n",
       "      <td>FC Porto</td>\n",
       "      <td>2019-11-10</td>\n",
       "      <td>1</td>\n",
       "      <td>1</td>\n",
       "      <td>0</td>\n",
       "      <td>1</td>\n",
       "      <td>Boavista</td>\n",
       "      <td>1.0</td>\n",
       "    </tr>\n",
       "    <tr>\n",
       "      <th>114</th>\n",
       "      <td>Desportivo Aves</td>\n",
       "      <td>2019-11-03</td>\n",
       "      <td>0</td>\n",
       "      <td>1</td>\n",
       "      <td>1</td>\n",
       "      <td>1</td>\n",
       "      <td>FC Porto</td>\n",
       "      <td>1.0</td>\n",
       "    </tr>\n",
       "    <tr>\n",
       "      <th>20</th>\n",
       "      <td>FC Porto</td>\n",
       "      <td>2019-10-30</td>\n",
       "      <td>1</td>\n",
       "      <td>2</td>\n",
       "      <td>1</td>\n",
       "      <td>1</td>\n",
       "      <td>Maritimo</td>\n",
       "      <td>2.0</td>\n",
       "    </tr>\n",
       "    <tr>\n",
       "      <th>40</th>\n",
       "      <td>Famalicao</td>\n",
       "      <td>2019-10-27</td>\n",
       "      <td>0</td>\n",
       "      <td>3</td>\n",
       "      <td>3</td>\n",
       "      <td>1</td>\n",
       "      <td>FC Porto</td>\n",
       "      <td>3.0</td>\n",
       "    </tr>\n",
       "    <tr>\n",
       "      <th>22</th>\n",
       "      <td>FC Porto</td>\n",
       "      <td>2019-09-29</td>\n",
       "      <td>1</td>\n",
       "      <td>1</td>\n",
       "      <td>0</td>\n",
       "      <td>1</td>\n",
       "      <td>Rio Ave</td>\n",
       "      <td>1.0</td>\n",
       "    </tr>\n",
       "    <tr>\n",
       "      <th>33</th>\n",
       "      <td>Santa Clara</td>\n",
       "      <td>2019-09-22</td>\n",
       "      <td>0</td>\n",
       "      <td>2</td>\n",
       "      <td>2</td>\n",
       "      <td>2</td>\n",
       "      <td>FC Porto</td>\n",
       "      <td>2.0</td>\n",
       "    </tr>\n",
       "    <tr>\n",
       "      <th>16</th>\n",
       "      <td>FC Porto</td>\n",
       "      <td>2019-09-15</td>\n",
       "      <td>3</td>\n",
       "      <td>5</td>\n",
       "      <td>2</td>\n",
       "      <td>2</td>\n",
       "      <td>Portimonense</td>\n",
       "      <td>5.0</td>\n",
       "    </tr>\n",
       "    <tr>\n",
       "      <th>99</th>\n",
       "      <td>Guimaraes</td>\n",
       "      <td>2019-09-01</td>\n",
       "      <td>0</td>\n",
       "      <td>3</td>\n",
       "      <td>3</td>\n",
       "      <td>1</td>\n",
       "      <td>FC Porto</td>\n",
       "      <td>3.0</td>\n",
       "    </tr>\n",
       "    <tr>\n",
       "      <th>18</th>\n",
       "      <td>FC Porto</td>\n",
       "      <td>2019-08-24</td>\n",
       "      <td>2</td>\n",
       "      <td>2</td>\n",
       "      <td>0</td>\n",
       "      <td>1</td>\n",
       "      <td>Benfica</td>\n",
       "      <td>2.0</td>\n",
       "    </tr>\n",
       "    <tr>\n",
       "      <th>67</th>\n",
       "      <td>Vitoria Setubal</td>\n",
       "      <td>2019-08-17</td>\n",
       "      <td>0</td>\n",
       "      <td>4</td>\n",
       "      <td>4</td>\n",
       "      <td>2</td>\n",
       "      <td>FC Porto</td>\n",
       "      <td>4.0</td>\n",
       "    </tr>\n",
       "    <tr>\n",
       "      <th>17</th>\n",
       "      <td>FC Porto</td>\n",
       "      <td>2019-08-10</td>\n",
       "      <td>1</td>\n",
       "      <td>3</td>\n",
       "      <td>2</td>\n",
       "      <td>0</td>\n",
       "      <td>Gil Vicente</td>\n",
       "      <td>3.0</td>\n",
       "    </tr>\n",
       "  </tbody>\n",
       "</table>\n",
       "</div>"
      ],
      "text/plain": [
       "            AwayTeam       Date FTAG FTG FTHG HTG      HomeTeam  one_a\n",
       "122          Tondela 2019-12-16    0   3    3   2      FC Porto    3.0\n",
       "21          FC Porto 2019-12-08    1   2    1   2    Belenenses    2.0\n",
       "108   Pacos Ferreira 2019-12-02    0   2    2   1      FC Porto    2.0\n",
       "19          FC Porto 2019-11-10    1   1    0   1      Boavista    1.0\n",
       "114  Desportivo Aves 2019-11-03    0   1    1   1      FC Porto    1.0\n",
       "20          FC Porto 2019-10-30    1   2    1   1      Maritimo    2.0\n",
       "40         Famalicao 2019-10-27    0   3    3   1      FC Porto    3.0\n",
       "22          FC Porto 2019-09-29    1   1    0   1       Rio Ave    1.0\n",
       "33       Santa Clara 2019-09-22    0   2    2   2      FC Porto    2.0\n",
       "16          FC Porto 2019-09-15    3   5    2   2  Portimonense    5.0\n",
       "99         Guimaraes 2019-09-01    0   3    3   1      FC Porto    3.0\n",
       "18          FC Porto 2019-08-24    2   2    0   1       Benfica    2.0\n",
       "67   Vitoria Setubal 2019-08-17    0   4    4   2      FC Porto    4.0\n",
       "17          FC Porto 2019-08-10    1   3    2   0   Gil Vicente    3.0"
      ]
     },
     "execution_count": 56,
     "metadata": {},
     "output_type": "execute_result"
    }
   ],
   "source": [
    "dff2[(dff2['HomeTeam']=='FC Porto') | (dff2['AwayTeam']=='FC Porto')]\\\n",
    ".sort_values(by='Date',ascending=False)"
   ]
  },
  {
   "cell_type": "code",
   "execution_count": null,
   "metadata": {
    "hidden": true
   },
   "outputs": [],
   "source": [
    "#team.sort_values(by='Date',ascending=False)"
   ]
  },
  {
   "cell_type": "code",
   "execution_count": null,
   "metadata": {
    "hidden": true
   },
   "outputs": [],
   "source": [
    "#dff[(dff['HomeTeam']=='FC Porto') | (dff['AwayTeam']=='FC Porto')].sort_values(by='Date',ascending=False)"
   ]
  },
  {
   "cell_type": "code",
   "execution_count": null,
   "metadata": {
    "hidden": true
   },
   "outputs": [],
   "source": [
    "dff[(dff['HomeTeam']=='Arsenal') | (dff['AwayTeam']=='Arsenal')].sort_values(by='Date',ascending=False)"
   ]
  },
  {
   "cell_type": "code",
   "execution_count": null,
   "metadata": {
    "hidden": true
   },
   "outputs": [],
   "source": [
    "One = []\n",
    "for i in bb.HomeTeam:\n",
    "    temp_filter = bb[(bb.HomeTeam == i)]\n",
    "    temp_filter = temp_filter.sort_values(by='Date', ascending=True)\n",
    "    One.append(temp_filter.FTG.iloc[1])\n",
    "    #bb.Two = temp_filter.FTG.iloc[2]\n",
    "    #bb.Three = temp_filter.FTG.iloc[3]"
   ]
  },
  {
   "cell_type": "code",
   "execution_count": null,
   "metadata": {
    "hidden": true
   },
   "outputs": [],
   "source": [
    "len(bb.HomeTeam)"
   ]
  },
  {
   "cell_type": "code",
   "execution_count": null,
   "metadata": {
    "hidden": true
   },
   "outputs": [],
   "source": [
    "#bb['One'] = One"
   ]
  },
  {
   "cell_type": "code",
   "execution_count": null,
   "metadata": {
    "hidden": true
   },
   "outputs": [],
   "source": [
    "arsenal['one'] = [list(arsenal['FTHG'])[i] if 'Arsenal' == list(arsenal['HomeTeam'])[i]\\\n",
    "                  else list(arsenal['FTAG'])[i] for i in range(len(arsenal['HomeTeam']))]"
   ]
  },
  {
   "cell_type": "code",
   "execution_count": null,
   "metadata": {
    "hidden": true
   },
   "outputs": [],
   "source": [
    "arsenal"
   ]
  },
  {
   "cell_type": "code",
   "execution_count": null,
   "metadata": {
    "hidden": true
   },
   "outputs": [],
   "source": [
    "trt = [list(arsenal['one'])[i] for i in range(len(arsenal['one'])) if i>0]\n",
    "trt2 = [list(arsenal['one'])[i] for i in range(len(arsenal['one'])) if i>1]\n",
    "trt3 = [list(arsenal['one'])[i] for i in range(len(arsenal['one'])) if i>2]"
   ]
  },
  {
   "cell_type": "code",
   "execution_count": null,
   "metadata": {
    "hidden": true
   },
   "outputs": [],
   "source": [
    "trt.append(0)\n",
    "trt2.append(0)\n",
    "trt2.append(0)\n",
    "trt3.append(0)\n",
    "trt3.append(0)\n",
    "trt3.append(0)"
   ]
  },
  {
   "cell_type": "code",
   "execution_count": null,
   "metadata": {
    "hidden": true
   },
   "outputs": [],
   "source": [
    "arsenal['One']=trt\n",
    "arsenal['Two']=trt2\n",
    "arsenal['Three']=trt3\n",
    "arsenal.drop(columns=['one'],inplace=True)"
   ]
  },
  {
   "cell_type": "code",
   "execution_count": 107,
   "metadata": {
    "hidden": true
   },
   "outputs": [
    {
     "data": {
      "text/html": [
       "<div>\n",
       "<style scoped>\n",
       "    .dataframe tbody tr th:only-of-type {\n",
       "        vertical-align: middle;\n",
       "    }\n",
       "\n",
       "    .dataframe tbody tr th {\n",
       "        vertical-align: top;\n",
       "    }\n",
       "\n",
       "    .dataframe thead th {\n",
       "        text-align: right;\n",
       "    }\n",
       "</style>\n",
       "<table border=\"1\" class=\"dataframe\">\n",
       "  <thead>\n",
       "    <tr style=\"text-align: right;\">\n",
       "      <th></th>\n",
       "      <th>Date</th>\n",
       "      <th>HomeTeam</th>\n",
       "      <th>AwayTeam</th>\n",
       "      <th>FTHG</th>\n",
       "      <th>FTAG</th>\n",
       "      <th>FTG</th>\n",
       "      <th>HTG</th>\n",
       "    </tr>\n",
       "  </thead>\n",
       "  <tbody>\n",
       "    <tr>\n",
       "      <th>175</th>\n",
       "      <td>2019-12-15</td>\n",
       "      <td>Arsenal</td>\n",
       "      <td>Manchester City</td>\n",
       "      <td>0</td>\n",
       "      <td>3</td>\n",
       "      <td>3</td>\n",
       "      <td>3</td>\n",
       "    </tr>\n",
       "    <tr>\n",
       "      <th>136</th>\n",
       "      <td>2019-12-09</td>\n",
       "      <td>West Ham United</td>\n",
       "      <td>Arsenal</td>\n",
       "      <td>1</td>\n",
       "      <td>3</td>\n",
       "      <td>4</td>\n",
       "      <td>1</td>\n",
       "    </tr>\n",
       "    <tr>\n",
       "      <th>183</th>\n",
       "      <td>2019-12-05</td>\n",
       "      <td>Arsenal</td>\n",
       "      <td>Brighton and Hove Albion</td>\n",
       "      <td>1</td>\n",
       "      <td>2</td>\n",
       "      <td>3</td>\n",
       "      <td>1</td>\n",
       "    </tr>\n",
       "    <tr>\n",
       "      <th>141</th>\n",
       "      <td>2019-12-01</td>\n",
       "      <td>Norwich City</td>\n",
       "      <td>Arsenal</td>\n",
       "      <td>2</td>\n",
       "      <td>2</td>\n",
       "      <td>4</td>\n",
       "      <td>3</td>\n",
       "    </tr>\n",
       "    <tr>\n",
       "      <th>257</th>\n",
       "      <td>2019-11-23</td>\n",
       "      <td>Arsenal</td>\n",
       "      <td>Southampton</td>\n",
       "      <td>2</td>\n",
       "      <td>2</td>\n",
       "      <td>4</td>\n",
       "      <td>2</td>\n",
       "    </tr>\n",
       "    <tr>\n",
       "      <th>138</th>\n",
       "      <td>2019-11-09</td>\n",
       "      <td>Leicester City</td>\n",
       "      <td>Arsenal</td>\n",
       "      <td>2</td>\n",
       "      <td>0</td>\n",
       "      <td>2</td>\n",
       "      <td>0</td>\n",
       "    </tr>\n",
       "    <tr>\n",
       "      <th>242</th>\n",
       "      <td>2019-11-02</td>\n",
       "      <td>Arsenal</td>\n",
       "      <td>Wolverhampton</td>\n",
       "      <td>1</td>\n",
       "      <td>1</td>\n",
       "      <td>2</td>\n",
       "      <td>1</td>\n",
       "    </tr>\n",
       "    <tr>\n",
       "      <th>218</th>\n",
       "      <td>2019-10-27</td>\n",
       "      <td>Arsenal</td>\n",
       "      <td>Crystal Palace</td>\n",
       "      <td>2</td>\n",
       "      <td>2</td>\n",
       "      <td>4</td>\n",
       "      <td>3</td>\n",
       "    </tr>\n",
       "    <tr>\n",
       "      <th>142</th>\n",
       "      <td>2019-10-21</td>\n",
       "      <td>Sheffield United</td>\n",
       "      <td>Arsenal</td>\n",
       "      <td>1</td>\n",
       "      <td>0</td>\n",
       "      <td>1</td>\n",
       "      <td>1</td>\n",
       "    </tr>\n",
       "    <tr>\n",
       "      <th>284</th>\n",
       "      <td>2019-10-06</td>\n",
       "      <td>Arsenal</td>\n",
       "      <td>AFC Bournemouth</td>\n",
       "      <td>1</td>\n",
       "      <td>0</td>\n",
       "      <td>1</td>\n",
       "      <td>1</td>\n",
       "    </tr>\n",
       "    <tr>\n",
       "      <th>140</th>\n",
       "      <td>2019-09-30</td>\n",
       "      <td>Manchester United</td>\n",
       "      <td>Arsenal</td>\n",
       "      <td>1</td>\n",
       "      <td>1</td>\n",
       "      <td>2</td>\n",
       "      <td>1</td>\n",
       "    </tr>\n",
       "    <tr>\n",
       "      <th>273</th>\n",
       "      <td>2019-09-22</td>\n",
       "      <td>Arsenal</td>\n",
       "      <td>Aston Villa</td>\n",
       "      <td>3</td>\n",
       "      <td>2</td>\n",
       "      <td>5</td>\n",
       "      <td>1</td>\n",
       "    </tr>\n",
       "    <tr>\n",
       "      <th>137</th>\n",
       "      <td>2019-09-15</td>\n",
       "      <td>Watford</td>\n",
       "      <td>Arsenal</td>\n",
       "      <td>2</td>\n",
       "      <td>2</td>\n",
       "      <td>4</td>\n",
       "      <td>2</td>\n",
       "    </tr>\n",
       "    <tr>\n",
       "      <th>164</th>\n",
       "      <td>2019-09-01</td>\n",
       "      <td>Arsenal</td>\n",
       "      <td>Tottenham Hotspur</td>\n",
       "      <td>2</td>\n",
       "      <td>2</td>\n",
       "      <td>4</td>\n",
       "      <td>3</td>\n",
       "    </tr>\n",
       "    <tr>\n",
       "      <th>135</th>\n",
       "      <td>2019-08-24</td>\n",
       "      <td>Liverpool</td>\n",
       "      <td>Arsenal</td>\n",
       "      <td>3</td>\n",
       "      <td>1</td>\n",
       "      <td>4</td>\n",
       "      <td>1</td>\n",
       "    </tr>\n",
       "    <tr>\n",
       "      <th>291</th>\n",
       "      <td>2019-08-17</td>\n",
       "      <td>Arsenal</td>\n",
       "      <td>Burnley</td>\n",
       "      <td>2</td>\n",
       "      <td>1</td>\n",
       "      <td>3</td>\n",
       "      <td>2</td>\n",
       "    </tr>\n",
       "    <tr>\n",
       "      <th>139</th>\n",
       "      <td>2019-08-11</td>\n",
       "      <td>Newcastle</td>\n",
       "      <td>Arsenal</td>\n",
       "      <td>0</td>\n",
       "      <td>1</td>\n",
       "      <td>1</td>\n",
       "      <td>0</td>\n",
       "    </tr>\n",
       "  </tbody>\n",
       "</table>\n",
       "</div>"
      ],
      "text/plain": [
       "          Date           HomeTeam                  AwayTeam  FTHG  FTAG  FTG  \\\n",
       "175 2019-12-15            Arsenal           Manchester City     0     3    3   \n",
       "136 2019-12-09    West Ham United                   Arsenal     1     3    4   \n",
       "183 2019-12-05            Arsenal  Brighton and Hove Albion     1     2    3   \n",
       "141 2019-12-01       Norwich City                   Arsenal     2     2    4   \n",
       "257 2019-11-23            Arsenal               Southampton     2     2    4   \n",
       "138 2019-11-09     Leicester City                   Arsenal     2     0    2   \n",
       "242 2019-11-02            Arsenal             Wolverhampton     1     1    2   \n",
       "218 2019-10-27            Arsenal            Crystal Palace     2     2    4   \n",
       "142 2019-10-21   Sheffield United                   Arsenal     1     0    1   \n",
       "284 2019-10-06            Arsenal           AFC Bournemouth     1     0    1   \n",
       "140 2019-09-30  Manchester United                   Arsenal     1     1    2   \n",
       "273 2019-09-22            Arsenal               Aston Villa     3     2    5   \n",
       "137 2019-09-15            Watford                   Arsenal     2     2    4   \n",
       "164 2019-09-01            Arsenal         Tottenham Hotspur     2     2    4   \n",
       "135 2019-08-24          Liverpool                   Arsenal     3     1    4   \n",
       "291 2019-08-17            Arsenal                   Burnley     2     1    3   \n",
       "139 2019-08-11          Newcastle                   Arsenal     0     1    1   \n",
       "\n",
       "     HTG  \n",
       "175    3  \n",
       "136    1  \n",
       "183    1  \n",
       "141    3  \n",
       "257    2  \n",
       "138    0  \n",
       "242    1  \n",
       "218    3  \n",
       "142    1  \n",
       "284    1  \n",
       "140    1  \n",
       "273    1  \n",
       "137    2  \n",
       "164    3  \n",
       "135    1  \n",
       "291    2  \n",
       "139    0  "
      ]
     },
     "execution_count": 107,
     "metadata": {},
     "output_type": "execute_result"
    }
   ],
   "source": [
    "arsenal"
   ]
  },
  {
   "cell_type": "code",
   "execution_count": null,
   "metadata": {
    "hidden": true
   },
   "outputs": [],
   "source": [
    "for i in range(1, len(bb)):\n",
    "    team = \n",
    "    df.loc[i, 'C'] = df.loc[i-1, 'C'] * df.loc[i, 'A'] + df.loc[i, 'B']"
   ]
  },
  {
   "cell_type": "markdown",
   "metadata": {
    "heading_collapsed": true
   },
   "source": [
    "# TESTS"
   ]
  },
  {
   "cell_type": "markdown",
   "metadata": {
    "heading_collapsed": true,
    "hidden": true
   },
   "source": [
    "##  +2.5"
   ]
  },
  {
   "cell_type": "markdown",
   "metadata": {
    "heading_collapsed": true,
    "hidden": true
   },
   "source": [
    "#### Split train test"
   ]
  },
  {
   "cell_type": "code",
   "execution_count": 323,
   "metadata": {
    "hidden": true
   },
   "outputs": [
    {
     "data": {
      "text/plain": [
       "Index(['Date', 'league_x', 'new_home', 'new_away', 'off_x', 'def_x', 'spi_x',\n",
       "       'off_y', 'def_y', 'spi_y', 'FTHG', 'FTAG', 'HTHG', 'HTAG', 'DIF_F',\n",
       "       'DIF_H', 'FTG', 'HTG', '1X2', 'FT_1_5', 'FT_2_5', 'FTH_1_5', 'FTH_2_5',\n",
       "       'FTA_1_5', 'FTA_2_5', 'HT_0_5', 'HT_1_5', 'HT_2_5', 'BTTS', 'HAND'],\n",
       "      dtype='object')"
      ]
     },
     "execution_count": 323,
     "metadata": {},
     "output_type": "execute_result"
    }
   ],
   "source": [
    "first.columns"
   ]
  },
  {
   "cell_type": "code",
   "execution_count": 356,
   "metadata": {
    "hidden": true
   },
   "outputs": [],
   "source": [
    "X = first.drop(columns=['Date','FTHG','FTAG', 'HTHG', 'HTAG', 'DIF_F',\n",
    "       'DIF_H', 'FTG', 'HTG', '1X2', 'FT_1_5', 'FT_2_5',\n",
    "                       'FTH_1_5', 'FTH_2_5', 'FTA_1_5', 'FTA_2_5', 'HT_1_5', 'HT_2_5', 'BTTS','HAND'])\n",
    "y = first['FT_2_5']\n",
    "X_train, X_test, y_train, y_test = train_test_split(X, y, test_size=0.2, random_state = 13)"
   ]
  },
  {
   "cell_type": "markdown",
   "metadata": {
    "hidden": true
   },
   "source": [
    "#### Logistic Regression"
   ]
  },
  {
   "cell_type": "code",
   "execution_count": 357,
   "metadata": {
    "hidden": true
   },
   "outputs": [
    {
     "name": "stdout",
     "output_type": "stream",
     "text": [
      "Logistic Regression Test Accuracy 73.15%\n"
     ]
    },
    {
     "name": "stderr",
     "output_type": "stream",
     "text": [
      "/usr/local/lib/python3.7/site-packages/sklearn/linear_model/logistic.py:432: FutureWarning: Default solver will be changed to 'lbfgs' in 0.22. Specify a solver to silence this warning.\n",
      "  FutureWarning)\n"
     ]
    }
   ],
   "source": [
    "lr = LogisticRegression()\n",
    "lr.fit(X_train,y_train)\n",
    "acc = lr.score(X_test,y_test)*100                            ### Attribute Error!!\n",
    "\n",
    "print(f\"Logistic Regression Test Accuracy {round(acc, 2)}%\")"
   ]
  },
  {
   "cell_type": "markdown",
   "metadata": {
    "hidden": true
   },
   "source": [
    "#### Decision Tree Classifier"
   ]
  },
  {
   "cell_type": "code",
   "execution_count": 326,
   "metadata": {
    "hidden": true
   },
   "outputs": [
    {
     "name": "stdout",
     "output_type": "stream",
     "text": [
      "Decision Tree Test Accuracy 61.8%\n"
     ]
    }
   ],
   "source": [
    "from sklearn.tree import DecisionTreeClassifier\n",
    "dtc = DecisionTreeClassifier()\n",
    "dtc.fit(X_train, y_train)\n",
    "y_pred = dtc.predict(X_test)\n",
    "acc = dtc.score(X_test, y_test)*100\n",
    "print(f\"Decision Tree Test Accuracy {round(acc, 2)}%\")"
   ]
  },
  {
   "cell_type": "markdown",
   "metadata": {
    "hidden": true
   },
   "source": [
    "#### SVC"
   ]
  },
  {
   "cell_type": "code",
   "execution_count": 327,
   "metadata": {
    "hidden": true
   },
   "outputs": [
    {
     "name": "stderr",
     "output_type": "stream",
     "text": [
      "/usr/local/lib/python3.7/site-packages/sklearn/svm/base.py:193: FutureWarning: The default value of gamma will change from 'auto' to 'scale' in version 0.22 to account better for unscaled features. Set gamma explicitly to 'auto' or 'scale' to avoid this warning.\n",
      "  \"avoid this warning.\", FutureWarning)\n"
     ]
    },
    {
     "name": "stdout",
     "output_type": "stream",
     "text": [
      "SVM Algorithm Test Accuracy 50.63%\n"
     ]
    }
   ],
   "source": [
    "from sklearn.svm import SVC\n",
    "svm = SVC()\n",
    "svm.fit(X_train, y_train)\n",
    "\n",
    "acc = svm.score(X_test,y_test)*100\n",
    "print(f\"SVM Algorithm Test Accuracy {round(acc, 2)}%\")"
   ]
  },
  {
   "cell_type": "markdown",
   "metadata": {
    "hidden": true
   },
   "source": [
    "#### KNN"
   ]
  },
  {
   "cell_type": "code",
   "execution_count": 328,
   "metadata": {
    "hidden": true
   },
   "outputs": [
    {
     "name": "stdout",
     "output_type": "stream",
     "text": [
      "1 neighbors KNN Score: 52.25%\n",
      "2 neighbors KNN Score: 50.45%\n",
      "3 neighbors KNN Score: 51.53%\n",
      "4 neighbors KNN Score: 51.35%\n",
      "5 neighbors KNN Score: 54.05%\n",
      "6 neighbors KNN Score: 52.43%\n",
      "7 neighbors KNN Score: 53.33%\n",
      "8 neighbors KNN Score: 50.99%\n",
      "9 neighbors KNN Score: 52.07%\n"
     ]
    }
   ],
   "source": [
    "from sklearn.neighbors import KNeighborsClassifier\n",
    "\n",
    "for j in range(1,10):\n",
    "    knn = KNeighborsClassifier(n_neighbors = j)  # n_neighbors means k\n",
    "    knn.fit(X_train, y_train)\n",
    "    y_pred = knn.predict(X_test)\n",
    "\n",
    "    acc = knn.score(X_test, y_test)*100\n",
    "    print(f\"{j} neighbors KNN Score: {round(acc,2)}%\")"
   ]
  },
  {
   "cell_type": "markdown",
   "metadata": {
    "heading_collapsed": true,
    "hidden": true
   },
   "source": [
    "## +1.5"
   ]
  },
  {
   "cell_type": "markdown",
   "metadata": {
    "hidden": true
   },
   "source": [
    "#### Split train test"
   ]
  },
  {
   "cell_type": "code",
   "execution_count": 329,
   "metadata": {
    "hidden": true
   },
   "outputs": [
    {
     "data": {
      "text/plain": [
       "Index(['Date', 'league_x', 'new_home', 'new_away', 'off_x', 'def_x', 'spi_x',\n",
       "       'off_y', 'def_y', 'spi_y', 'FTHG', 'FTAG', 'HTHG', 'HTAG', 'DIF_F',\n",
       "       'DIF_H', 'FTG', 'HTG', '1X2', 'FT_1_5', 'FT_2_5', 'FTH_1_5', 'FTH_2_5',\n",
       "       'FTA_1_5', 'FTA_2_5', 'HT_0_5', 'HT_1_5', 'HT_2_5', 'BTTS', 'HAND'],\n",
       "      dtype='object')"
      ]
     },
     "execution_count": 329,
     "metadata": {},
     "output_type": "execute_result"
    }
   ],
   "source": [
    "onefive.columns"
   ]
  },
  {
   "cell_type": "code",
   "execution_count": 358,
   "metadata": {
    "hidden": true
   },
   "outputs": [],
   "source": [
    "X = onefive.drop(columns=['Date','FTHG','FTAG', 'HTHG', 'HTAG', 'DIF_F',\n",
    "       'DIF_H', 'FTG', 'HTG', '1X2', 'FT_1_5', 'FT_2_5',\n",
    "                       'FTH_1_5', 'FTH_2_5', 'FTA_1_5', 'FTA_2_5', 'HT_1_5', 'HT_2_5', 'BTTS','HAND'])\n",
    "y = onefive['FT_1_5']\n",
    "X_train, X_test, y_train, y_test = train_test_split(X, y, test_size=0.2, random_state = 13)"
   ]
  },
  {
   "cell_type": "markdown",
   "metadata": {
    "hidden": true
   },
   "source": [
    "#### Logistic Regression"
   ]
  },
  {
   "cell_type": "code",
   "execution_count": 359,
   "metadata": {
    "hidden": true
   },
   "outputs": [
    {
     "name": "stdout",
     "output_type": "stream",
     "text": [
      "Logistic Regression Test Accuracy 79.15%\n"
     ]
    },
    {
     "name": "stderr",
     "output_type": "stream",
     "text": [
      "/usr/local/lib/python3.7/site-packages/sklearn/linear_model/logistic.py:432: FutureWarning: Default solver will be changed to 'lbfgs' in 0.22. Specify a solver to silence this warning.\n",
      "  FutureWarning)\n"
     ]
    }
   ],
   "source": [
    "lr = LogisticRegression()\n",
    "lr.fit(X_train,y_train)\n",
    "acc = lr.score(X_test,y_test)*100                            ### Attribute Error!!\n",
    "\n",
    "print(f\"Logistic Regression Test Accuracy {round(acc, 2)}%\")"
   ]
  },
  {
   "cell_type": "markdown",
   "metadata": {
    "hidden": true
   },
   "source": [
    "#### Decision Tree Classifier"
   ]
  },
  {
   "cell_type": "code",
   "execution_count": 332,
   "metadata": {
    "hidden": true
   },
   "outputs": [
    {
     "name": "stdout",
     "output_type": "stream",
     "text": [
      "Decision Tree Test Accuracy 70.14%\n"
     ]
    }
   ],
   "source": [
    "from sklearn.tree import DecisionTreeClassifier\n",
    "dtc = DecisionTreeClassifier()\n",
    "dtc.fit(X_train, y_train)\n",
    "y_pred = dtc.predict(X_test)\n",
    "acc = dtc.score(X_test, y_test)*100\n",
    "print(f\"Decision Tree Test Accuracy {round(acc, 2)}%\")"
   ]
  },
  {
   "cell_type": "markdown",
   "metadata": {
    "hidden": true
   },
   "source": [
    "#### SVC"
   ]
  },
  {
   "cell_type": "code",
   "execution_count": 333,
   "metadata": {
    "hidden": true
   },
   "outputs": [
    {
     "name": "stdout",
     "output_type": "stream",
     "text": [
      "SVM Algorithm Test Accuracy 71.56%\n"
     ]
    },
    {
     "name": "stderr",
     "output_type": "stream",
     "text": [
      "/usr/local/lib/python3.7/site-packages/sklearn/svm/base.py:193: FutureWarning: The default value of gamma will change from 'auto' to 'scale' in version 0.22 to account better for unscaled features. Set gamma explicitly to 'auto' or 'scale' to avoid this warning.\n",
      "  \"avoid this warning.\", FutureWarning)\n"
     ]
    }
   ],
   "source": [
    "from sklearn.svm import SVC\n",
    "svm = SVC()\n",
    "svm.fit(X_train, y_train)\n",
    "\n",
    "acc = svm.score(X_test,y_test)*100\n",
    "print(f\"SVM Algorithm Test Accuracy {round(acc, 2)}%\")"
   ]
  },
  {
   "cell_type": "markdown",
   "metadata": {
    "hidden": true
   },
   "source": [
    "#### KNN"
   ]
  },
  {
   "cell_type": "code",
   "execution_count": 334,
   "metadata": {
    "hidden": true
   },
   "outputs": [
    {
     "name": "stdout",
     "output_type": "stream",
     "text": [
      "1 neighbors KNN Score: 58.29%\n",
      "2 neighbors KNN Score: 51.9%\n",
      "3 neighbors KNN Score: 63.98%\n",
      "4 neighbors KNN Score: 59.0%\n",
      "5 neighbors KNN Score: 67.3%\n",
      "6 neighbors KNN Score: 62.32%\n",
      "7 neighbors KNN Score: 66.59%\n",
      "8 neighbors KNN Score: 64.45%\n",
      "9 neighbors KNN Score: 65.4%\n"
     ]
    }
   ],
   "source": [
    "from sklearn.neighbors import KNeighborsClassifier\n",
    "\n",
    "for j in range(1,10):\n",
    "    knn = KNeighborsClassifier(n_neighbors = j)  # n_neighbors means k\n",
    "    knn.fit(X_train, y_train)\n",
    "    y_pred = knn.predict(X_test)\n",
    "\n",
    "    acc = knn.score(X_test, y_test)*100\n",
    "    print(f\"{j} neighbors KNN Score: {round(acc,2)}%\")"
   ]
  },
  {
   "cell_type": "markdown",
   "metadata": {
    "heading_collapsed": true,
    "hidden": true
   },
   "source": [
    "## 1X2"
   ]
  },
  {
   "cell_type": "markdown",
   "metadata": {
    "hidden": true
   },
   "source": [
    "#### Split train test"
   ]
  },
  {
   "cell_type": "code",
   "execution_count": 335,
   "metadata": {
    "hidden": true
   },
   "outputs": [
    {
     "data": {
      "text/plain": [
       "Index(['Date', 'league_x', 'new_home', 'new_away', 'off_x', 'def_x', 'spi_x',\n",
       "       'off_y', 'def_y', 'spi_y', 'FTHG', 'FTAG', 'HTHG', 'HTAG', 'DIF_F',\n",
       "       'DIF_H', 'FTG', 'HTG', '1X2', 'FT_1_5', 'FT_2_5', 'FTH_1_5', 'FTH_2_5',\n",
       "       'FTA_1_5', 'FTA_2_5', 'HT_0_5', 'HT_1_5', 'HT_2_5', 'BTTS', 'HAND'],\n",
       "      dtype='object')"
      ]
     },
     "execution_count": 335,
     "metadata": {},
     "output_type": "execute_result"
    }
   ],
   "source": [
    "first.columns"
   ]
  },
  {
   "cell_type": "code",
   "execution_count": 336,
   "metadata": {
    "hidden": true
   },
   "outputs": [],
   "source": [
    "X = first.drop(columns=['Date','FTHG','FTAG', 'HTHG', 'HTAG', 'DIF_F',\n",
    "       'DIF_H', 'FTG', 'HTG', '1X2', 'FT_1_5', 'FT_2_5',\n",
    "                       'FTH_1_5', 'FTH_2_5', 'FTA_1_5', 'FTA_2_5', 'HT_1_5', 'HT_2_5', 'BTTS','HAND'])\n",
    "y = first['1X2']\n",
    "X_train, X_test, y_train, y_test = train_test_split(X, y, test_size=0.2, random_state = 13)"
   ]
  },
  {
   "cell_type": "markdown",
   "metadata": {
    "hidden": true
   },
   "source": [
    "#### Logistic Regression"
   ]
  },
  {
   "cell_type": "code",
   "execution_count": 337,
   "metadata": {
    "hidden": true
   },
   "outputs": [
    {
     "name": "stdout",
     "output_type": "stream",
     "text": [
      "Logistic Regression Test Accuracy 52.43%\n"
     ]
    },
    {
     "name": "stderr",
     "output_type": "stream",
     "text": [
      "/usr/local/lib/python3.7/site-packages/sklearn/linear_model/logistic.py:432: FutureWarning: Default solver will be changed to 'lbfgs' in 0.22. Specify a solver to silence this warning.\n",
      "  FutureWarning)\n",
      "/usr/local/lib/python3.7/site-packages/sklearn/linear_model/logistic.py:469: FutureWarning: Default multi_class will be changed to 'auto' in 0.22. Specify the multi_class option to silence this warning.\n",
      "  \"this warning.\", FutureWarning)\n"
     ]
    }
   ],
   "source": [
    "lr = LogisticRegression()\n",
    "lr.fit(X_train,y_train)\n",
    "acc = lr.score(X_test,y_test)*100                            ### Attribute Error!!\n",
    "\n",
    "print(f\"Logistic Regression Test Accuracy {round(acc, 2)}%\")"
   ]
  },
  {
   "cell_type": "markdown",
   "metadata": {
    "hidden": true
   },
   "source": [
    "#### Decision Tree Classifier"
   ]
  },
  {
   "cell_type": "code",
   "execution_count": 338,
   "metadata": {
    "hidden": true
   },
   "outputs": [
    {
     "name": "stdout",
     "output_type": "stream",
     "text": [
      "Decision Tree Test Accuracy 42.34%\n"
     ]
    }
   ],
   "source": [
    "from sklearn.tree import DecisionTreeClassifier\n",
    "dtc = DecisionTreeClassifier()\n",
    "dtc.fit(X_train, y_train)\n",
    "y_pred = dtc.predict(X_test)\n",
    "acc = dtc.score(X_test, y_test)*100\n",
    "print(f\"Decision Tree Test Accuracy {round(acc, 2)}%\")"
   ]
  },
  {
   "cell_type": "markdown",
   "metadata": {
    "hidden": true
   },
   "source": [
    "#### SVC"
   ]
  },
  {
   "cell_type": "code",
   "execution_count": 339,
   "metadata": {
    "hidden": true
   },
   "outputs": [
    {
     "name": "stderr",
     "output_type": "stream",
     "text": [
      "/usr/local/lib/python3.7/site-packages/sklearn/svm/base.py:193: FutureWarning: The default value of gamma will change from 'auto' to 'scale' in version 0.22 to account better for unscaled features. Set gamma explicitly to 'auto' or 'scale' to avoid this warning.\n",
      "  \"avoid this warning.\", FutureWarning)\n"
     ]
    },
    {
     "name": "stdout",
     "output_type": "stream",
     "text": [
      "SVM Algorithm Test Accuracy 47.57%\n"
     ]
    }
   ],
   "source": [
    "from sklearn.svm import SVC\n",
    "svm = SVC()\n",
    "svm.fit(X_train, y_train)\n",
    "\n",
    "acc = svm.score(X_test,y_test)*100\n",
    "print(f\"SVM Algorithm Test Accuracy {round(acc, 2)}%\")"
   ]
  },
  {
   "cell_type": "markdown",
   "metadata": {
    "hidden": true
   },
   "source": [
    "#### KNN"
   ]
  },
  {
   "cell_type": "code",
   "execution_count": 340,
   "metadata": {
    "hidden": true
   },
   "outputs": [
    {
     "name": "stdout",
     "output_type": "stream",
     "text": [
      "1 neighbors KNN Score: 41.8%\n",
      "2 neighbors KNN Score: 34.59%\n",
      "3 neighbors KNN Score: 40.0%\n",
      "4 neighbors KNN Score: 38.2%\n",
      "5 neighbors KNN Score: 38.2%\n",
      "6 neighbors KNN Score: 40.72%\n",
      "7 neighbors KNN Score: 41.44%\n",
      "8 neighbors KNN Score: 41.62%\n",
      "9 neighbors KNN Score: 41.08%\n"
     ]
    }
   ],
   "source": [
    "from sklearn.neighbors import KNeighborsClassifier\n",
    "\n",
    "for j in range(1,10):\n",
    "    knn = KNeighborsClassifier(n_neighbors = j)  # n_neighbors means k\n",
    "    knn.fit(X_train, y_train)\n",
    "    y_pred = knn.predict(X_test)\n",
    "\n",
    "    acc = knn.score(X_test, y_test)*100\n",
    "    print(f\"{j} neighbors KNN Score: {round(acc,2)}%\")"
   ]
  },
  {
   "cell_type": "markdown",
   "metadata": {
    "heading_collapsed": true,
    "hidden": true
   },
   "source": [
    "## BTTS"
   ]
  },
  {
   "cell_type": "markdown",
   "metadata": {
    "hidden": true
   },
   "source": [
    "#### Split train test"
   ]
  },
  {
   "cell_type": "code",
   "execution_count": 341,
   "metadata": {
    "hidden": true
   },
   "outputs": [
    {
     "data": {
      "text/plain": [
       "Index(['Date', 'league_x', 'new_home', 'new_away', 'off_x', 'def_x', 'spi_x',\n",
       "       'off_y', 'def_y', 'spi_y', 'FTHG', 'FTAG', 'HTHG', 'HTAG', 'DIF_F',\n",
       "       'DIF_H', 'FTG', 'HTG', '1X2', 'FT_1_5', 'FT_2_5', 'FTH_1_5', 'FTH_2_5',\n",
       "       'FTA_1_5', 'FTA_2_5', 'HT_0_5', 'HT_1_5', 'HT_2_5', 'BTTS', 'HAND'],\n",
       "      dtype='object')"
      ]
     },
     "execution_count": 341,
     "metadata": {},
     "output_type": "execute_result"
    }
   ],
   "source": [
    "first.columns"
   ]
  },
  {
   "cell_type": "code",
   "execution_count": 342,
   "metadata": {
    "hidden": true
   },
   "outputs": [],
   "source": [
    "X = first.drop(columns=['Date','FTHG','FTAG', 'HTHG', 'HTAG', 'DIF_F',\n",
    "       'DIF_H', 'FTG', 'HTG', '1X2', 'FT_1_5', 'FT_2_5',\n",
    "                       'FTH_1_5', 'FTH_2_5', 'FTA_1_5', 'FTA_2_5', 'HT_1_5', 'HT_2_5', 'BTTS','HAND'])\n",
    "y = first['BTTS']\n",
    "X_train, X_test, y_train, y_test = train_test_split(X, y, test_size=0.2, random_state = 13)"
   ]
  },
  {
   "cell_type": "markdown",
   "metadata": {
    "hidden": true
   },
   "source": [
    "#### Logistic Regression"
   ]
  },
  {
   "cell_type": "code",
   "execution_count": 343,
   "metadata": {
    "hidden": true
   },
   "outputs": [
    {
     "name": "stdout",
     "output_type": "stream",
     "text": [
      "Logistic Regression Test Accuracy 69.19%\n"
     ]
    },
    {
     "name": "stderr",
     "output_type": "stream",
     "text": [
      "/usr/local/lib/python3.7/site-packages/sklearn/linear_model/logistic.py:432: FutureWarning: Default solver will be changed to 'lbfgs' in 0.22. Specify a solver to silence this warning.\n",
      "  FutureWarning)\n"
     ]
    }
   ],
   "source": [
    "lr = LogisticRegression()\n",
    "lr.fit(X_train,y_train)\n",
    "acc = lr.score(X_test,y_test)*100                            ### Attribute Error!!\n",
    "\n",
    "print(f\"Logistic Regression Test Accuracy {round(acc, 2)}%\")"
   ]
  },
  {
   "cell_type": "markdown",
   "metadata": {
    "hidden": true
   },
   "source": [
    "#### Decision Tree Classifier"
   ]
  },
  {
   "cell_type": "code",
   "execution_count": 344,
   "metadata": {
    "hidden": true
   },
   "outputs": [
    {
     "name": "stdout",
     "output_type": "stream",
     "text": [
      "Decision Tree Test Accuracy 56.94%\n"
     ]
    }
   ],
   "source": [
    "from sklearn.tree import DecisionTreeClassifier\n",
    "dtc = DecisionTreeClassifier()\n",
    "dtc.fit(X_train, y_train)\n",
    "y_pred = dtc.predict(X_test)\n",
    "acc = dtc.score(X_test, y_test)*100\n",
    "print(f\"Decision Tree Test Accuracy {round(acc, 2)}%\")"
   ]
  },
  {
   "cell_type": "markdown",
   "metadata": {
    "hidden": true
   },
   "source": [
    "#### SVC"
   ]
  },
  {
   "cell_type": "code",
   "execution_count": 345,
   "metadata": {
    "hidden": true
   },
   "outputs": [
    {
     "name": "stderr",
     "output_type": "stream",
     "text": [
      "/usr/local/lib/python3.7/site-packages/sklearn/svm/base.py:193: FutureWarning: The default value of gamma will change from 'auto' to 'scale' in version 0.22 to account better for unscaled features. Set gamma explicitly to 'auto' or 'scale' to avoid this warning.\n",
      "  \"avoid this warning.\", FutureWarning)\n"
     ]
    },
    {
     "name": "stdout",
     "output_type": "stream",
     "text": [
      "SVM Algorithm Test Accuracy 54.41%\n"
     ]
    }
   ],
   "source": [
    "from sklearn.svm import SVC\n",
    "svm = SVC()\n",
    "svm.fit(X_train, y_train)\n",
    "\n",
    "acc = svm.score(X_test,y_test)*100\n",
    "print(f\"SVM Algorithm Test Accuracy {round(acc, 2)}%\")"
   ]
  },
  {
   "cell_type": "markdown",
   "metadata": {
    "hidden": true
   },
   "source": [
    "#### KNN"
   ]
  },
  {
   "cell_type": "code",
   "execution_count": 346,
   "metadata": {
    "hidden": true
   },
   "outputs": [
    {
     "name": "stdout",
     "output_type": "stream",
     "text": [
      "1 neighbors KNN Score: 48.83%\n",
      "2 neighbors KNN Score: 48.29%\n",
      "3 neighbors KNN Score: 49.37%\n",
      "4 neighbors KNN Score: 47.03%\n",
      "5 neighbors KNN Score: 47.75%\n",
      "6 neighbors KNN Score: 46.85%\n",
      "7 neighbors KNN Score: 49.55%\n",
      "8 neighbors KNN Score: 45.95%\n",
      "9 neighbors KNN Score: 52.07%\n"
     ]
    }
   ],
   "source": [
    "from sklearn.neighbors import KNeighborsClassifier\n",
    "\n",
    "for j in range(1,10):\n",
    "    knn = KNeighborsClassifier(n_neighbors = j)  # n_neighbors means k\n",
    "    knn.fit(X_train, y_train)\n",
    "    y_pred = knn.predict(X_test)\n",
    "\n",
    "    acc = knn.score(X_test, y_test)*100\n",
    "    print(f\"{j} neighbors KNN Score: {round(acc,2)}%\")"
   ]
  },
  {
   "cell_type": "markdown",
   "metadata": {
    "heading_collapsed": true,
    "hidden": true
   },
   "source": [
    "## HANDICAP"
   ]
  },
  {
   "cell_type": "code",
   "execution_count": 347,
   "metadata": {
    "hidden": true
   },
   "outputs": [
    {
     "data": {
      "text/plain": [
       "Index(['Date', 'league_x', 'new_home', 'new_away', 'off_x', 'def_x', 'spi_x',\n",
       "       'off_y', 'def_y', 'spi_y', 'FTHG', 'FTAG', 'HTHG', 'HTAG', 'DIF_F',\n",
       "       'DIF_H', 'FTG', 'HTG', '1X2', 'FT_1_5', 'FT_2_5', 'FTH_1_5', 'FTH_2_5',\n",
       "       'FTA_1_5', 'FTA_2_5', 'HT_0_5', 'HT_1_5', 'HT_2_5', 'BTTS', 'HAND'],\n",
       "      dtype='object')"
      ]
     },
     "execution_count": 347,
     "metadata": {},
     "output_type": "execute_result"
    }
   ],
   "source": [
    "first.columns"
   ]
  },
  {
   "cell_type": "code",
   "execution_count": 348,
   "metadata": {
    "hidden": true
   },
   "outputs": [],
   "source": [
    "X = first.drop(columns=['Date','FTHG','FTAG', 'HTHG', 'HTAG', 'DIF_F',\n",
    "       'DIF_H', 'FTG', 'HTG', '1X2', 'FT_1_5', 'FT_2_5',\n",
    "                       'FTH_1_5', 'FTH_2_5', 'FTA_1_5', 'FTA_2_5', 'HT_1_5', 'HT_2_5', 'BTTS','HAND'])\n",
    "y = first['HAND']\n",
    "X_train, X_test, y_train, y_test = train_test_split(X, y, test_size=0.2, random_state = 13)"
   ]
  },
  {
   "cell_type": "markdown",
   "metadata": {
    "hidden": true
   },
   "source": [
    "#### Logistic Regression"
   ]
  },
  {
   "cell_type": "code",
   "execution_count": 349,
   "metadata": {
    "hidden": true
   },
   "outputs": [
    {
     "name": "stdout",
     "output_type": "stream",
     "text": [
      "Logistic Regression Test Accuracy 67.03%\n"
     ]
    },
    {
     "name": "stderr",
     "output_type": "stream",
     "text": [
      "/usr/local/lib/python3.7/site-packages/sklearn/linear_model/logistic.py:432: FutureWarning: Default solver will be changed to 'lbfgs' in 0.22. Specify a solver to silence this warning.\n",
      "  FutureWarning)\n",
      "/usr/local/lib/python3.7/site-packages/sklearn/linear_model/logistic.py:469: FutureWarning: Default multi_class will be changed to 'auto' in 0.22. Specify the multi_class option to silence this warning.\n",
      "  \"this warning.\", FutureWarning)\n"
     ]
    }
   ],
   "source": [
    "lr = LogisticRegression()\n",
    "lr.fit(X_train,y_train)\n",
    "acc = lr.score(X_test,y_test)*100                            ### Attribute Error!!\n",
    "\n",
    "print(f\"Logistic Regression Test Accuracy {round(acc, 2)}%\")"
   ]
  },
  {
   "cell_type": "markdown",
   "metadata": {
    "hidden": true
   },
   "source": [
    "#### Decision Tree Classifier"
   ]
  },
  {
   "cell_type": "code",
   "execution_count": 350,
   "metadata": {
    "hidden": true
   },
   "outputs": [
    {
     "name": "stdout",
     "output_type": "stream",
     "text": [
      "Decision Tree Test Accuracy 52.25%\n"
     ]
    }
   ],
   "source": [
    "from sklearn.tree import DecisionTreeClassifier\n",
    "dtc = DecisionTreeClassifier()\n",
    "dtc.fit(X_train, y_train)\n",
    "y_pred = dtc.predict(X_test)\n",
    "acc = dtc.score(X_test, y_test)*100\n",
    "print(f\"Decision Tree Test Accuracy {round(acc, 2)}%\")"
   ]
  },
  {
   "cell_type": "markdown",
   "metadata": {
    "hidden": true
   },
   "source": [
    "#### SVC"
   ]
  },
  {
   "cell_type": "code",
   "execution_count": 351,
   "metadata": {
    "hidden": true
   },
   "outputs": [
    {
     "name": "stderr",
     "output_type": "stream",
     "text": [
      "/usr/local/lib/python3.7/site-packages/sklearn/svm/base.py:193: FutureWarning: The default value of gamma will change from 'auto' to 'scale' in version 0.22 to account better for unscaled features. Set gamma explicitly to 'auto' or 'scale' to avoid this warning.\n",
      "  \"avoid this warning.\", FutureWarning)\n"
     ]
    },
    {
     "name": "stdout",
     "output_type": "stream",
     "text": [
      "SVM Algorithm Test Accuracy 66.13%\n"
     ]
    }
   ],
   "source": [
    "from sklearn.svm import SVC\n",
    "svm = SVC()\n",
    "svm.fit(X_train, y_train)\n",
    "\n",
    "acc = svm.score(X_test,y_test)*100\n",
    "print(f\"SVM Algorithm Test Accuracy {round(acc, 2)}%\")"
   ]
  },
  {
   "cell_type": "markdown",
   "metadata": {
    "hidden": true
   },
   "source": [
    "#### KNN"
   ]
  },
  {
   "cell_type": "code",
   "execution_count": 352,
   "metadata": {
    "hidden": true
   },
   "outputs": [
    {
     "name": "stdout",
     "output_type": "stream",
     "text": [
      "1 neighbors KNN Score: 53.69%\n",
      "2 neighbors KNN Score: 55.86%\n",
      "3 neighbors KNN Score: 58.02%\n",
      "4 neighbors KNN Score: 61.98%\n",
      "5 neighbors KNN Score: 62.16%\n",
      "6 neighbors KNN Score: 63.78%\n",
      "7 neighbors KNN Score: 65.77%\n",
      "8 neighbors KNN Score: 64.5%\n",
      "9 neighbors KNN Score: 63.96%\n"
     ]
    }
   ],
   "source": [
    "from sklearn.neighbors import KNeighborsClassifier\n",
    "\n",
    "for j in range(1,10):\n",
    "    knn = KNeighborsClassifier(n_neighbors = j)  # n_neighbors means k\n",
    "    knn.fit(X_train, y_train)\n",
    "    y_pred = knn.predict(X_test)\n",
    "\n",
    "    acc = knn.score(X_test, y_test)*100\n",
    "    print(f\"{j} neighbors KNN Score: {round(acc,2)}%\")"
   ]
  },
  {
   "cell_type": "markdown",
   "metadata": {
    "heading_collapsed": true,
    "hidden": true
   },
   "source": [
    "## TOTAL 1 +1.5"
   ]
  },
  {
   "cell_type": "code",
   "execution_count": 347,
   "metadata": {
    "hidden": true
   },
   "outputs": [
    {
     "data": {
      "text/plain": [
       "Index(['Date', 'league_x', 'new_home', 'new_away', 'off_x', 'def_x', 'spi_x',\n",
       "       'off_y', 'def_y', 'spi_y', 'FTHG', 'FTAG', 'HTHG', 'HTAG', 'DIF_F',\n",
       "       'DIF_H', 'FTG', 'HTG', '1X2', 'FT_1_5', 'FT_2_5', 'FTH_1_5', 'FTH_2_5',\n",
       "       'FTA_1_5', 'FTA_2_5', 'HT_0_5', 'HT_1_5', 'HT_2_5', 'BTTS', 'HAND'],\n",
       "      dtype='object')"
      ]
     },
     "execution_count": 347,
     "metadata": {},
     "output_type": "execute_result"
    }
   ],
   "source": [
    "first.columns"
   ]
  },
  {
   "cell_type": "code",
   "execution_count": 360,
   "metadata": {
    "hidden": true
   },
   "outputs": [],
   "source": [
    "X = first.drop(columns=['Date','FTHG','FTAG', 'HTHG', 'HTAG', 'DIF_F',\n",
    "       'DIF_H', 'FTG', 'HTG', '1X2', 'FT_1_5', 'FT_2_5',\n",
    "                       'FTH_1_5', 'FTH_2_5', 'FTA_1_5', 'FTA_2_5', 'HT_1_5', 'HT_2_5', 'BTTS','HAND'])\n",
    "y = first['FTH_1_5']\n",
    "X_train, X_test, y_train, y_test = train_test_split(X, y, test_size=0.2, random_state = 13)"
   ]
  },
  {
   "cell_type": "markdown",
   "metadata": {
    "hidden": true
   },
   "source": [
    "#### Logistic Regression"
   ]
  },
  {
   "cell_type": "code",
   "execution_count": 361,
   "metadata": {
    "hidden": true
   },
   "outputs": [
    {
     "name": "stdout",
     "output_type": "stream",
     "text": [
      "Logistic Regression Test Accuracy 69.91%\n"
     ]
    },
    {
     "name": "stderr",
     "output_type": "stream",
     "text": [
      "/usr/local/lib/python3.7/site-packages/sklearn/linear_model/logistic.py:432: FutureWarning: Default solver will be changed to 'lbfgs' in 0.22. Specify a solver to silence this warning.\n",
      "  FutureWarning)\n"
     ]
    }
   ],
   "source": [
    "lr = LogisticRegression()\n",
    "lr.fit(X_train,y_train)\n",
    "acc = lr.score(X_test,y_test)*100                            ### Attribute Error!!\n",
    "\n",
    "print(f\"Logistic Regression Test Accuracy {round(acc, 2)}%\")"
   ]
  },
  {
   "cell_type": "markdown",
   "metadata": {
    "hidden": true
   },
   "source": [
    "#### Decision Tree Classifier"
   ]
  },
  {
   "cell_type": "code",
   "execution_count": 362,
   "metadata": {
    "hidden": true
   },
   "outputs": [
    {
     "name": "stdout",
     "output_type": "stream",
     "text": [
      "Decision Tree Test Accuracy 58.92%\n"
     ]
    }
   ],
   "source": [
    "from sklearn.tree import DecisionTreeClassifier\n",
    "dtc = DecisionTreeClassifier()\n",
    "dtc.fit(X_train, y_train)\n",
    "y_pred = dtc.predict(X_test)\n",
    "acc = dtc.score(X_test, y_test)*100\n",
    "print(f\"Decision Tree Test Accuracy {round(acc, 2)}%\")"
   ]
  },
  {
   "cell_type": "markdown",
   "metadata": {
    "hidden": true
   },
   "source": [
    "#### SVC"
   ]
  },
  {
   "cell_type": "code",
   "execution_count": 363,
   "metadata": {
    "hidden": true
   },
   "outputs": [
    {
     "name": "stderr",
     "output_type": "stream",
     "text": [
      "/usr/local/lib/python3.7/site-packages/sklearn/svm/base.py:193: FutureWarning: The default value of gamma will change from 'auto' to 'scale' in version 0.22 to account better for unscaled features. Set gamma explicitly to 'auto' or 'scale' to avoid this warning.\n",
      "  \"avoid this warning.\", FutureWarning)\n"
     ]
    },
    {
     "name": "stdout",
     "output_type": "stream",
     "text": [
      "SVM Algorithm Test Accuracy 54.59%\n"
     ]
    }
   ],
   "source": [
    "from sklearn.svm import SVC\n",
    "svm = SVC()\n",
    "svm.fit(X_train, y_train)\n",
    "\n",
    "acc = svm.score(X_test,y_test)*100\n",
    "print(f\"SVM Algorithm Test Accuracy {round(acc, 2)}%\")"
   ]
  },
  {
   "cell_type": "markdown",
   "metadata": {
    "hidden": true
   },
   "source": [
    "#### KNN"
   ]
  },
  {
   "cell_type": "code",
   "execution_count": 364,
   "metadata": {
    "hidden": true
   },
   "outputs": [
    {
     "name": "stdout",
     "output_type": "stream",
     "text": [
      "1 neighbors KNN Score: 56.04%\n",
      "2 neighbors KNN Score: 56.22%\n",
      "3 neighbors KNN Score: 55.68%\n",
      "4 neighbors KNN Score: 55.5%\n",
      "5 neighbors KNN Score: 55.68%\n",
      "6 neighbors KNN Score: 55.5%\n",
      "7 neighbors KNN Score: 55.68%\n",
      "8 neighbors KNN Score: 55.68%\n",
      "9 neighbors KNN Score: 54.23%\n"
     ]
    }
   ],
   "source": [
    "from sklearn.neighbors import KNeighborsClassifier\n",
    "\n",
    "for j in range(1,10):\n",
    "    knn = KNeighborsClassifier(n_neighbors = j)  # n_neighbors means k\n",
    "    knn.fit(X_train, y_train)\n",
    "    y_pred = knn.predict(X_test)\n",
    "\n",
    "    acc = knn.score(X_test, y_test)*100\n",
    "    print(f\"{j} neighbors KNN Score: {round(acc,2)}%\")"
   ]
  },
  {
   "cell_type": "markdown",
   "metadata": {
    "heading_collapsed": true,
    "hidden": true
   },
   "source": [
    "## TOTAL 2 +1.5"
   ]
  },
  {
   "cell_type": "code",
   "execution_count": 347,
   "metadata": {
    "hidden": true
   },
   "outputs": [
    {
     "data": {
      "text/plain": [
       "Index(['Date', 'league_x', 'new_home', 'new_away', 'off_x', 'def_x', 'spi_x',\n",
       "       'off_y', 'def_y', 'spi_y', 'FTHG', 'FTAG', 'HTHG', 'HTAG', 'DIF_F',\n",
       "       'DIF_H', 'FTG', 'HTG', '1X2', 'FT_1_5', 'FT_2_5', 'FTH_1_5', 'FTH_2_5',\n",
       "       'FTA_1_5', 'FTA_2_5', 'HT_0_5', 'HT_1_5', 'HT_2_5', 'BTTS', 'HAND'],\n",
       "      dtype='object')"
      ]
     },
     "execution_count": 347,
     "metadata": {},
     "output_type": "execute_result"
    }
   ],
   "source": [
    "awayonefive.columns"
   ]
  },
  {
   "cell_type": "code",
   "execution_count": 374,
   "metadata": {
    "hidden": true
   },
   "outputs": [],
   "source": [
    "X = awayonefive.drop(columns=['Date','FTHG','FTAG', 'HTHG', 'HTAG', 'DIF_F',\n",
    "       'DIF_H', 'FTG', 'HTG', '1X2', 'FT_1_5', 'FT_2_5',\n",
    "                       'FTH_1_5', 'FTH_2_5', 'FTA_1_5', 'FTA_2_5', 'HT_1_5', 'HT_2_5', 'BTTS','HAND'])\n",
    "y = awayonefive['FTA_1_5']\n",
    "X_train, X_test, y_train, y_test = train_test_split(X, y, test_size=0.2, random_state = 13)"
   ]
  },
  {
   "cell_type": "markdown",
   "metadata": {
    "hidden": true
   },
   "source": [
    "#### Logistic Regression"
   ]
  },
  {
   "cell_type": "code",
   "execution_count": 375,
   "metadata": {
    "hidden": true
   },
   "outputs": [
    {
     "name": "stdout",
     "output_type": "stream",
     "text": [
      "Logistic Regression Test Accuracy 69.89%\n"
     ]
    },
    {
     "name": "stderr",
     "output_type": "stream",
     "text": [
      "/usr/local/lib/python3.7/site-packages/sklearn/linear_model/logistic.py:432: FutureWarning: Default solver will be changed to 'lbfgs' in 0.22. Specify a solver to silence this warning.\n",
      "  FutureWarning)\n"
     ]
    }
   ],
   "source": [
    "lr = LogisticRegression()\n",
    "lr.fit(X_train,y_train)\n",
    "acc = lr.score(X_test,y_test)*100                            ### Attribute Error!!\n",
    "\n",
    "print(f\"Logistic Regression Test Accuracy {round(acc, 2)}%\")"
   ]
  },
  {
   "cell_type": "markdown",
   "metadata": {
    "hidden": true
   },
   "source": [
    "#### Decision Tree Classifier"
   ]
  },
  {
   "cell_type": "code",
   "execution_count": 376,
   "metadata": {
    "hidden": true
   },
   "outputs": [
    {
     "name": "stdout",
     "output_type": "stream",
     "text": [
      "Decision Tree Test Accuracy 60.0%\n"
     ]
    }
   ],
   "source": [
    "from sklearn.tree import DecisionTreeClassifier\n",
    "dtc = DecisionTreeClassifier()\n",
    "dtc.fit(X_train, y_train)\n",
    "y_pred = dtc.predict(X_test)\n",
    "acc = dtc.score(X_test, y_test)*100\n",
    "print(f\"Decision Tree Test Accuracy {round(acc, 2)}%\")"
   ]
  },
  {
   "cell_type": "markdown",
   "metadata": {
    "hidden": true
   },
   "source": [
    "#### SVC"
   ]
  },
  {
   "cell_type": "code",
   "execution_count": 377,
   "metadata": {
    "hidden": true
   },
   "outputs": [
    {
     "name": "stdout",
     "output_type": "stream",
     "text": [
      "SVM Algorithm Test Accuracy 60.0%\n"
     ]
    },
    {
     "name": "stderr",
     "output_type": "stream",
     "text": [
      "/usr/local/lib/python3.7/site-packages/sklearn/svm/base.py:193: FutureWarning: The default value of gamma will change from 'auto' to 'scale' in version 0.22 to account better for unscaled features. Set gamma explicitly to 'auto' or 'scale' to avoid this warning.\n",
      "  \"avoid this warning.\", FutureWarning)\n"
     ]
    }
   ],
   "source": [
    "from sklearn.svm import SVC\n",
    "svm = SVC()\n",
    "svm.fit(X_train, y_train)\n",
    "\n",
    "acc = svm.score(X_test,y_test)*100\n",
    "print(f\"SVM Algorithm Test Accuracy {round(acc, 2)}%\")"
   ]
  },
  {
   "cell_type": "markdown",
   "metadata": {
    "hidden": true
   },
   "source": [
    "#### KNN"
   ]
  },
  {
   "cell_type": "code",
   "execution_count": 378,
   "metadata": {
    "hidden": true
   },
   "outputs": [
    {
     "name": "stdout",
     "output_type": "stream",
     "text": [
      "1 neighbors KNN Score: 53.26%\n",
      "2 neighbors KNN Score: 58.95%\n",
      "3 neighbors KNN Score: 54.74%\n",
      "4 neighbors KNN Score: 58.32%\n",
      "5 neighbors KNN Score: 56.63%\n",
      "6 neighbors KNN Score: 60.0%\n",
      "7 neighbors KNN Score: 57.26%\n",
      "8 neighbors KNN Score: 59.16%\n",
      "9 neighbors KNN Score: 57.47%\n"
     ]
    }
   ],
   "source": [
    "from sklearn.neighbors import KNeighborsClassifier\n",
    "\n",
    "for j in range(1,10):\n",
    "    knn = KNeighborsClassifier(n_neighbors = j)  # n_neighbors means k\n",
    "    knn.fit(X_train, y_train)\n",
    "    y_pred = knn.predict(X_test)\n",
    "\n",
    "    acc = knn.score(X_test, y_test)*100\n",
    "    print(f\"{j} neighbors KNN Score: {round(acc,2)}%\")"
   ]
  },
  {
   "cell_type": "markdown",
   "metadata": {},
   "source": [
    "# INTERACTIVE"
   ]
  },
  {
   "cell_type": "code",
   "execution_count": 381,
   "metadata": {},
   "outputs": [],
   "source": [
    "def f(x):\n",
    "    return x"
   ]
  },
  {
   "cell_type": "code",
   "execution_count": 384,
   "metadata": {},
   "outputs": [
    {
     "data": {
      "application/vnd.jupyter.widget-view+json": {
       "model_id": "b268e3e4dcd445a2a4937a17fb05141b",
       "version_major": 2,
       "version_minor": 0
      },
      "text/plain": [
       "interactive(children=(Text(value='', description='x'), Output()), _dom_classes=('widget-interact',))"
      ]
     },
     "metadata": {},
     "output_type": "display_data"
    }
   ],
   "source": [
    "name = interact(f, x='')"
   ]
  },
  {
   "cell_type": "code",
   "execution_count": 387,
   "metadata": {},
   "outputs": [
    {
     "data": {
      "application/vnd.jupyter.widget-view+json": {
       "model_id": "ac389d2dffbf46eaafbccb4280751217",
       "version_major": 2,
       "version_minor": 0
      },
      "text/plain": [
       "interactive(children=(Dropdown(description='x', options=(('one', 10), ('two', 20)), value=10), Output()), _dom…"
      ]
     },
     "metadata": {},
     "output_type": "display_data"
    }
   ],
   "source": [
    "k = interact(f, x=[('one', 10), ('two', 20)]);"
   ]
  },
  {
   "cell_type": "code",
   "execution_count": 388,
   "metadata": {},
   "outputs": [
    {
     "data": {
      "text/plain": [
       "<function __main__.f(x)>"
      ]
     },
     "execution_count": 388,
     "metadata": {},
     "output_type": "execute_result"
    }
   ],
   "source": [
    "k"
   ]
  },
  {
   "cell_type": "code",
   "execution_count": null,
   "metadata": {},
   "outputs": [],
   "source": []
  }
 ],
 "metadata": {
  "kernelspec": {
   "display_name": "Python 3",
   "language": "python",
   "name": "python3"
  },
  "language_info": {
   "codemirror_mode": {
    "name": "ipython",
    "version": 3
   },
   "file_extension": ".py",
   "mimetype": "text/x-python",
   "name": "python",
   "nbconvert_exporter": "python",
   "pygments_lexer": "ipython3",
   "version": "3.7.4"
  }
 },
 "nbformat": 4,
 "nbformat_minor": 2
}
